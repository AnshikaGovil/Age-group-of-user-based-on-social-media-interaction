{
 "cells": [
  {
   "cell_type": "code",
   "execution_count": 1,
   "metadata": {
    "_cell_guid": "b1076dfc-b9ad-4769-8c92-a6c4dae69d19",
    "_uuid": "8f2839f25d086af736a60e9eeb907d3b93b6e0e5",
    "execution": {
     "iopub.execute_input": "2020-12-06T20:21:25.071191Z",
     "iopub.status.busy": "2020-12-06T20:21:25.070485Z",
     "iopub.status.idle": "2020-12-06T20:21:25.083248Z",
     "shell.execute_reply": "2020-12-06T20:21:25.082534Z"
    },
    "papermill": {
     "duration": 0.033822,
     "end_time": "2020-12-06T20:21:25.083363",
     "exception": false,
     "start_time": "2020-12-06T20:21:25.049541",
     "status": "completed"
    },
    "tags": []
   },
   "outputs": [
    {
     "name": "stdout",
     "output_type": "stream",
     "text": [
      "/kaggle/input/cascade-cup-debye/Cascade_cup/sample_submission.csv\n",
      "/kaggle/input/cascade-cup-debye/Cascade_cup/test_age_dataset.csv\n",
      "/kaggle/input/cascade-cup-debye/Cascade_cup/train_age_dataset.csv\n"
     ]
    }
   ],
   "source": [
    "# This Python 3 environment comes with many helpful analytics libraries installed\n",
    "# It is defined by the kaggle/python Docker image: https://github.com/kaggle/docker-python\n",
    "# For example, here's several helpful packages to load\n",
    "\n",
    "import numpy as np # linear algebra\n",
    "import pandas as pd # data processing, CSV file I/O (e.g. pd.read_csv)\n",
    "\n",
    "# Input data files are available in the read-only \"../input/\" directory\n",
    "# For example, running this (by clicking run or pressing Shift+Enter) will list all files under the input directory\n",
    "\n",
    "import os\n",
    "for dirname, _, filenames in os.walk('/kaggle/input'):\n",
    "    for filename in filenames:\n",
    "        print(os.path.join(dirname, filename))\n",
    "\n",
    "# You can write up to 20GB to the current directory (/kaggle/working/) that gets preserved as output when you create a version using \"Save & Run All\" \n",
    "# You can also write temporary files to /kaggle/temp/, but they won't be saved outside of the current session"
   ]
  },
  {
   "cell_type": "code",
   "execution_count": 2,
   "metadata": {
    "_cell_guid": "79c7e3d0-c299-4dcb-8224-4455121ee9b0",
    "_uuid": "d629ff2d2480ee46fbb7e2d37f6b5fab8052498a",
    "execution": {
     "iopub.execute_input": "2020-12-06T20:21:25.115689Z",
     "iopub.status.busy": "2020-12-06T20:21:25.115072Z",
     "iopub.status.idle": "2020-12-06T20:21:26.167690Z",
     "shell.execute_reply": "2020-12-06T20:21:26.166617Z"
    },
    "papermill": {
     "duration": 1.070844,
     "end_time": "2020-12-06T20:21:26.167837",
     "exception": false,
     "start_time": "2020-12-06T20:21:25.096993",
     "status": "completed"
    },
    "tags": []
   },
   "outputs": [
    {
     "data": {
      "text/html": [
       "<style type='text/css'>\n",
       ".datatable table.frame { margin-bottom: 0; }\n",
       ".datatable table.frame thead { border-bottom: none; }\n",
       ".datatable table.frame tr.coltypes td {  color: #FFFFFF;  line-height: 6px;  padding: 0 0.5em;}\n",
       ".datatable .bool    { background: #DDDD99; }\n",
       ".datatable .object  { background: #565656; }\n",
       ".datatable .int     { background: #5D9E5D; }\n",
       ".datatable .float   { background: #4040CC; }\n",
       ".datatable .str     { background: #CC4040; }\n",
       ".datatable .row_index {  background: var(--jp-border-color3);  border-right: 1px solid var(--jp-border-color0);  color: var(--jp-ui-font-color3);  font-size: 9px;}\n",
       ".datatable .frame tr.coltypes .row_index {  background: var(--jp-border-color0);}\n",
       ".datatable th:nth-child(2) { padding-left: 12px; }\n",
       ".datatable .hellipsis {  color: var(--jp-cell-editor-border-color);}\n",
       ".datatable .vellipsis {  background: var(--jp-layout-color0);  color: var(--jp-cell-editor-border-color);}\n",
       ".datatable .na {  color: var(--jp-cell-editor-border-color);  font-size: 80%;}\n",
       ".datatable .footer { font-size: 9px; }\n",
       ".datatable .frame_dimensions {  background: var(--jp-border-color3);  border-top: 1px solid var(--jp-border-color0);  color: var(--jp-ui-font-color3);  display: inline-block;  opacity: 0.6;  padding: 1px 10px 1px 5px;}\n",
       ".datatable .frame thead tr.colnames {  background-image: url('data:image/png;base64,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');  background-repeat: repeat-x;  background-size: 14px;  height: 28px;}\n",
       "</style>\n"
      ],
      "text/plain": [
       "<IPython.core.display.HTML object>"
      ]
     },
     "metadata": {},
     "output_type": "display_data"
    }
   ],
   "source": [
    "import pandas as pd\n",
    "import time\n",
    "import numpy as np\n",
    "import xgboost as xgb\n",
    "from sklearn.model_selection import StratifiedKFold, train_test_split\n",
    "from sklearn.metrics import f1_score, accuracy_score\n",
    "from sklearn.preprocessing import OneHotEncoder"
   ]
  },
  {
   "cell_type": "code",
   "execution_count": 3,
   "metadata": {
    "execution": {
     "iopub.execute_input": "2020-12-06T20:21:26.203937Z",
     "iopub.status.busy": "2020-12-06T20:21:26.203267Z",
     "iopub.status.idle": "2020-12-06T20:21:28.324491Z",
     "shell.execute_reply": "2020-12-06T20:21:28.323378Z"
    },
    "papermill": {
     "duration": 2.14126,
     "end_time": "2020-12-06T20:21:28.324624",
     "exception": false,
     "start_time": "2020-12-06T20:21:26.183364",
     "status": "completed"
    },
    "tags": []
   },
   "outputs": [],
   "source": [
    "df_train = pd.read_csv(\"../input/Cascade_cup/train_age_dataset.csv\")\n",
    "df_test = pd.read_csv(\"../input/Cascade_cup/test_age_dataset.csv\")"
   ]
  },
  {
   "cell_type": "code",
   "execution_count": 4,
   "metadata": {
    "execution": {
     "iopub.execute_input": "2020-12-06T20:21:28.360841Z",
     "iopub.status.busy": "2020-12-06T20:21:28.358986Z",
     "iopub.status.idle": "2020-12-06T20:21:28.361557Z",
     "shell.execute_reply": "2020-12-06T20:21:28.362068Z"
    },
    "papermill": {
     "duration": 0.022162,
     "end_time": "2020-12-06T20:21:28.362201",
     "exception": false,
     "start_time": "2020-12-06T20:21:28.340039",
     "status": "completed"
    },
    "tags": []
   },
   "outputs": [],
   "source": [
    "ohe = OneHotEncoder(sparse=False, handle_unknown='ignore')"
   ]
  },
  {
   "cell_type": "code",
   "execution_count": 5,
   "metadata": {
    "execution": {
     "iopub.execute_input": "2020-12-06T20:21:28.395318Z",
     "iopub.status.busy": "2020-12-06T20:21:28.394635Z",
     "iopub.status.idle": "2020-12-06T20:21:28.398535Z",
     "shell.execute_reply": "2020-12-06T20:21:28.399058Z"
    },
    "papermill": {
     "duration": 0.022553,
     "end_time": "2020-12-06T20:21:28.399205",
     "exception": false,
     "start_time": "2020-12-06T20:21:28.376652",
     "status": "completed"
    },
    "tags": []
   },
   "outputs": [],
   "source": [
    "cat_columns = ['tier','gender']"
   ]
  },
  {
   "cell_type": "code",
   "execution_count": 6,
   "metadata": {
    "execution": {
     "iopub.execute_input": "2020-12-06T20:21:28.444717Z",
     "iopub.status.busy": "2020-12-06T20:21:28.443706Z",
     "iopub.status.idle": "2020-12-06T20:21:28.630973Z",
     "shell.execute_reply": "2020-12-06T20:21:28.631539Z"
    },
    "papermill": {
     "duration": 0.218793,
     "end_time": "2020-12-06T20:21:28.631695",
     "exception": false,
     "start_time": "2020-12-06T20:21:28.412902",
     "status": "completed"
    },
    "tags": []
   },
   "outputs": [],
   "source": [
    "encoded_train = ohe.fit_transform(df_train[cat_columns])\n",
    "encoded_test = ohe.transform(df_test[cat_columns])\n",
    "encoded_df_train = pd.DataFrame(encoded_train,columns=ohe.get_feature_names(cat_columns))\n",
    "encoded_df_train.index = df_train.index\n",
    "encoded_df_test = pd.DataFrame(encoded_test,columns=ohe.get_feature_names(cat_columns))\n",
    "encoded_df_test.index = df_test.index\n",
    "train = pd.concat([df_train.drop(cat_columns,axis=1),encoded_df_train],axis=1)\n",
    "test = pd.concat([df_test.drop(cat_columns,axis=1),encoded_df_test],axis=1)"
   ]
  },
  {
   "cell_type": "code",
   "execution_count": 7,
   "metadata": {
    "execution": {
     "iopub.execute_input": "2020-12-06T20:21:28.667113Z",
     "iopub.status.busy": "2020-12-06T20:21:28.666345Z",
     "iopub.status.idle": "2020-12-06T20:21:28.669888Z",
     "shell.execute_reply": "2020-12-06T20:21:28.669432Z"
    },
    "papermill": {
     "duration": 0.023191,
     "end_time": "2020-12-06T20:21:28.669983",
     "exception": false,
     "start_time": "2020-12-06T20:21:28.646792",
     "status": "completed"
    },
    "tags": []
   },
   "outputs": [],
   "source": [
    "feature_cols = [col for col in train.columns.tolist() if col not in ['Unnamed: 0','userId','age_group','tier_3','gender_1','avgComments','avgDuration','avgCompletion','punctuations_per_action','emoji_count_per_action','num_of_hashtags_per_action']]\n",
    "target_cols = ['age_group']"
   ]
  },
  {
   "cell_type": "code",
   "execution_count": 8,
   "metadata": {
    "execution": {
     "iopub.execute_input": "2020-12-06T20:21:28.706415Z",
     "iopub.status.busy": "2020-12-06T20:21:28.705046Z",
     "iopub.status.idle": "2020-12-06T20:21:29.019574Z",
     "shell.execute_reply": "2020-12-06T20:21:29.018944Z"
    },
    "papermill": {
     "duration": 0.335371,
     "end_time": "2020-12-06T20:21:29.019687",
     "exception": false,
     "start_time": "2020-12-06T20:21:28.684316",
     "status": "completed"
    },
    "tags": []
   },
   "outputs": [],
   "source": [
    "skf = StratifiedKFold(n_splits=5, random_state=0, shuffle=True)\n",
    "\n",
    "for i, (trn, val) in enumerate(skf.split(train[target_cols], train[target_cols])):\n",
    "    train.loc[val, 'kfold'] = i\n",
    "train['kfold'] = train['kfold'].astype(int)"
   ]
  },
  {
   "cell_type": "code",
   "execution_count": 9,
   "metadata": {
    "execution": {
     "iopub.execute_input": "2020-12-06T20:21:29.062826Z",
     "iopub.status.busy": "2020-12-06T20:21:29.061021Z",
     "iopub.status.idle": "2020-12-06T20:21:29.063485Z",
     "shell.execute_reply": "2020-12-06T20:21:29.063935Z"
    },
    "papermill": {
     "duration": 0.029505,
     "end_time": "2020-12-06T20:21:29.064043",
     "exception": false,
     "start_time": "2020-12-06T20:21:29.034538",
     "status": "completed"
    },
    "tags": []
   },
   "outputs": [],
   "source": [
    "# A MODEL WITH 2 XGB CLASSIFIERS\n",
    "class DoubleXGB():\n",
    "    def __init__(self):\n",
    "        self.mod1 = xgb.XGBClassifier(reg_alpha=10 ,random_state=42, \n",
    "                                  tree_method='gpu_hist', max_depth=9, \n",
    "                                  n_estimators=1000, learning_rate=0.02)\n",
    "        self.mod2 = xgb.XGBClassifier(reg_alpha=10 ,random_state=48, \n",
    "                                  tree_method='gpu_hist', max_depth=9, \n",
    "                                  n_estimators=1000, learning_rate=0.02)\n",
    "        \n",
    "    def fit(self, x, y):\n",
    "        self.mod1.fit(x, y)\n",
    "        self.mod2.fit(x, y)\n",
    "        \n",
    "    def predict_proba(self, x):\n",
    "        pred1 = self.mod1.predict_proba(x)\n",
    "        pred2 = self.mod2.predict_proba(x)\n",
    "        \n",
    "        return (pred1+pred2)/2\n",
    "    \n",
    "    def predict(self, x):\n",
    "        pred1 = self.mod1.predict_proba(x)\n",
    "        pred2 = self.mod2.predict_proba(x)\n",
    "        \n",
    "        pred = (pred1+pred2)/2\n",
    "        \n",
    "        pred_classes = np.argmax(pred, axis=1)\n",
    "        return pred_classes"
   ]
  },
  {
   "cell_type": "code",
   "execution_count": 10,
   "metadata": {
    "execution": {
     "iopub.execute_input": "2020-12-06T20:21:29.109924Z",
     "iopub.status.busy": "2020-12-06T20:21:29.108020Z",
     "iopub.status.idle": "2020-12-06T20:21:29.110715Z",
     "shell.execute_reply": "2020-12-06T20:21:29.111225Z"
    },
    "papermill": {
     "duration": 0.032446,
     "end_time": "2020-12-06T20:21:29.111351",
     "exception": false,
     "start_time": "2020-12-06T20:21:29.078905",
     "status": "completed"
    },
    "tags": []
   },
   "outputs": [],
   "source": [
    "def run_training():\n",
    "    oof = np.zeros((train.shape[0], 4))\n",
    "    pred = np.zeros((test.shape[0], 4))\n",
    "    \n",
    "    for fold in range(5):\n",
    "\n",
    "        print(f\"\\nStarting FOLD: {fold}\")\n",
    "        start = time.time()\n",
    "        \n",
    "\n",
    "        trn_idx = train['kfold'] != fold\n",
    "        val_idx = train['kfold'] == fold\n",
    "        trn = train.loc[trn_idx, :]\n",
    "        val = train.loc[val_idx, :]\n",
    "\n",
    "        xtr, ytr = trn[feature_cols].values, trn[target_cols].values\n",
    "        xval, yval = val[feature_cols].values, val[target_cols].values\n",
    "        xtest = test[feature_cols].values\n",
    "\n",
    "        model = DoubleXGB()\n",
    "        \n",
    "        model.fit(xtr, ytr.reshape(-1,))\n",
    "        print(\"Training Accuracy Score - \", accuracy_score(ytr, model.predict(xtr)))\n",
    "        print(\"Training F1 Score - \", f1_score(ytr, model.predict(xtr), average='weighted'))\n",
    "        \n",
    "        print(\"Validation Accuracy Score - \", accuracy_score(yval, model.predict(xval)))\n",
    "        print(\"Validation F1 Score - \", f1_score(yval, model.predict(xval), average='weighted'))\n",
    "        \n",
    "        oof[val_idx, :] += model.predict_proba(xval)\n",
    "        \n",
    "        # Test preds\n",
    "        pred += model.predict_proba(xtest)/5\n",
    "        \n",
    "        print(f\"FOLD {fold} completed in {time.time()-start} seconds\")\n",
    "        \n",
    "    return oof, pred"
   ]
  },
  {
   "cell_type": "code",
   "execution_count": 11,
   "metadata": {
    "execution": {
     "iopub.execute_input": "2020-12-06T20:21:29.147424Z",
     "iopub.status.busy": "2020-12-06T20:21:29.146171Z",
     "iopub.status.idle": "2020-12-06T20:36:51.334484Z",
     "shell.execute_reply": "2020-12-06T20:36:51.335147Z"
    },
    "papermill": {
     "duration": 922.208392,
     "end_time": "2020-12-06T20:36:51.335352",
     "exception": false,
     "start_time": "2020-12-06T20:21:29.126960",
     "status": "completed"
    },
    "tags": []
   },
   "outputs": [
    {
     "name": "stdout",
     "output_type": "stream",
     "text": [
      "\n",
      "Starting FOLD: 0\n",
      "Training Accuracy Score -  0.0548042577237082\n",
      "Training F1 Score -  0.07313845450317133\n",
      "Validation Accuracy Score -  0.0686262477499591\n",
      "Validation F1 Score -  0.09096046047656725\n",
      "FOLD 0 completed in 185.84431219100952 seconds\n",
      "\n",
      "Starting FOLD: 1\n",
      "Training Accuracy Score -  0.05407810258731121\n",
      "Training F1 Score -  0.07226104796422816\n",
      "Validation Accuracy Score -  0.06753190967108492\n",
      "Validation F1 Score -  0.08901472466349014\n",
      "FOLD 1 completed in 181.6905014514923 seconds\n",
      "\n",
      "Starting FOLD: 2\n",
      "Training Accuracy Score -  0.05458678298755823\n",
      "Training F1 Score -  0.07311564393275612\n",
      "Validation Accuracy Score -  0.06837126054717464\n",
      "Validation F1 Score -  0.09027097769725702\n",
      "FOLD 2 completed in 185.16882991790771 seconds\n",
      "\n",
      "Starting FOLD: 3\n",
      "Training Accuracy Score -  0.053886198485305625\n",
      "Training F1 Score -  0.07217003884145973\n",
      "Validation Accuracy Score -  0.0676144208642291\n",
      "Validation F1 Score -  0.08909477058640639\n",
      "FOLD 3 completed in 187.36898159980774 seconds\n",
      "\n",
      "Starting FOLD: 4\n",
      "Training Accuracy Score -  0.05450496289970391\n",
      "Training F1 Score -  0.07302535713218303\n",
      "Validation Accuracy Score -  0.07014062899514191\n",
      "Validation F1 Score -  0.09262645069917438\n",
      "FOLD 4 completed in 182.05127096176147 seconds\n"
     ]
    }
   ],
   "source": [
    "oof, pred = run_training()"
   ]
  },
  {
   "cell_type": "code",
   "execution_count": 12,
   "metadata": {
    "execution": {
     "iopub.execute_input": "2020-12-06T20:36:51.389871Z",
     "iopub.status.busy": "2020-12-06T20:36:51.388973Z",
     "iopub.status.idle": "2020-12-06T20:36:51.391477Z",
     "shell.execute_reply": "2020-12-06T20:36:51.392051Z"
    },
    "papermill": {
     "duration": 0.032001,
     "end_time": "2020-12-06T20:36:51.392188",
     "exception": false,
     "start_time": "2020-12-06T20:36:51.360187",
     "status": "completed"
    },
    "tags": []
   },
   "outputs": [],
   "source": [
    "def find_oof_score(oof):\n",
    "    predictions = oof.argmax(axis=1)+1\n",
    "    print(\"OOF Accuracy Score - \", accuracy_score(train[target_cols], predictions))\n",
    "    print(\"OOF F1 Score - \", f1_score(train[target_cols], predictions, average='weighted'))"
   ]
  },
  {
   "cell_type": "code",
   "execution_count": 13,
   "metadata": {
    "execution": {
     "iopub.execute_input": "2020-12-06T20:36:51.445065Z",
     "iopub.status.busy": "2020-12-06T20:36:51.444266Z",
     "iopub.status.idle": "2020-12-06T20:36:51.643749Z",
     "shell.execute_reply": "2020-12-06T20:36:51.644467Z"
    },
    "papermill": {
     "duration": 0.227621,
     "end_time": "2020-12-06T20:36:51.644619",
     "exception": false,
     "start_time": "2020-12-06T20:36:51.416998",
     "status": "completed"
    },
    "tags": []
   },
   "outputs": [
    {
     "name": "stdout",
     "output_type": "stream",
     "text": [
      "OOF Accuracy Score -  0.7489716227190071\n",
      "OOF F1 Score -  0.74824771829688\n"
     ]
    }
   ],
   "source": [
    "find_oof_score(oof)"
   ]
  },
  {
   "cell_type": "code",
   "execution_count": 14,
   "metadata": {
    "execution": {
     "iopub.execute_input": "2020-12-06T20:36:51.698593Z",
     "iopub.status.busy": "2020-12-06T20:36:51.697815Z",
     "iopub.status.idle": "2020-12-06T20:36:51.701486Z",
     "shell.execute_reply": "2020-12-06T20:36:51.701003Z"
    },
    "papermill": {
     "duration": 0.032765,
     "end_time": "2020-12-06T20:36:51.701590",
     "exception": false,
     "start_time": "2020-12-06T20:36:51.668825",
     "status": "completed"
    },
    "tags": []
   },
   "outputs": [],
   "source": [
    "final_preds = pred.argmax(axis=1) + 1"
   ]
  },
  {
   "cell_type": "code",
   "execution_count": 15,
   "metadata": {
    "execution": {
     "iopub.execute_input": "2020-12-06T20:36:51.756707Z",
     "iopub.status.busy": "2020-12-06T20:36:51.755838Z",
     "iopub.status.idle": "2020-12-06T20:36:51.763690Z",
     "shell.execute_reply": "2020-12-06T20:36:51.764212Z"
    },
    "papermill": {
     "duration": 0.038182,
     "end_time": "2020-12-06T20:36:51.764325",
     "exception": false,
     "start_time": "2020-12-06T20:36:51.726143",
     "status": "completed"
    },
    "tags": []
   },
   "outputs": [
    {
     "data": {
      "text/plain": [
       "prediction\n",
       "1             33981\n",
       "2              8752\n",
       "3              6609\n",
       "4              4978\n",
       "dtype: int64"
      ]
     },
     "execution_count": 15,
     "metadata": {},
     "output_type": "execute_result"
    }
   ],
   "source": [
    "pred_csv = pd.DataFrame(final_preds.reshape(-1), columns=['prediction'])\n",
    "pred_csv.value_counts()"
   ]
  },
  {
   "cell_type": "code",
   "execution_count": 16,
   "metadata": {
    "execution": {
     "iopub.execute_input": "2020-12-06T20:36:51.817704Z",
     "iopub.status.busy": "2020-12-06T20:36:51.817058Z",
     "iopub.status.idle": "2020-12-06T20:36:52.162533Z",
     "shell.execute_reply": "2020-12-06T20:36:52.161213Z"
    },
    "papermill": {
     "duration": 0.373839,
     "end_time": "2020-12-06T20:36:52.162690",
     "exception": false,
     "start_time": "2020-12-06T20:36:51.788851",
     "status": "completed"
    },
    "tags": []
   },
   "outputs": [],
   "source": [
    "pred_csv.to_csv('Submission5.csv', index=False)"
   ]
  },
  {
   "cell_type": "code",
   "execution_count": 17,
   "metadata": {
    "execution": {
     "iopub.execute_input": "2020-12-06T20:36:52.222656Z",
     "iopub.status.busy": "2020-12-06T20:36:52.221191Z",
     "iopub.status.idle": "2020-12-06T20:36:52.238275Z",
     "shell.execute_reply": "2020-12-06T20:36:52.237756Z"
    },
    "papermill": {
     "duration": 0.049157,
     "end_time": "2020-12-06T20:36:52.238383",
     "exception": false,
     "start_time": "2020-12-06T20:36:52.189226",
     "status": "completed"
    },
    "tags": []
   },
   "outputs": [],
   "source": [
    "np.save('oof_xgb.npy', oof)\n",
    "np.save('pred_xgb.npy', pred)"
   ]
  },
  {
   "cell_type": "code",
   "execution_count": null,
   "metadata": {
    "papermill": {
     "duration": 0.025843,
     "end_time": "2020-12-06T20:36:52.289401",
     "exception": false,
     "start_time": "2020-12-06T20:36:52.263558",
     "status": "completed"
    },
    "tags": []
   },
   "outputs": [],
   "source": []
  }
 ],
 "metadata": {
  "kernelspec": {
   "display_name": "Python 3",
   "language": "python",
   "name": "python3"
  },
  "language_info": {
   "codemirror_mode": {
    "name": "ipython",
    "version": 3
   },
   "file_extension": ".py",
   "mimetype": "text/x-python",
   "name": "python",
   "nbconvert_exporter": "python",
   "pygments_lexer": "ipython3",
   "version": "3.7.3"
  },
  "papermill": {
   "duration": 931.888348,
   "end_time": "2020-12-06T20:36:52.728755",
   "environment_variables": {},
   "exception": null,
   "input_path": "__notebook__.ipynb",
   "output_path": "__notebook__.ipynb",
   "parameters": {},
   "start_time": "2020-12-06T20:21:20.840407",
   "version": "2.1.0"
  }
 },
 "nbformat": 4,
 "nbformat_minor": 4
}
