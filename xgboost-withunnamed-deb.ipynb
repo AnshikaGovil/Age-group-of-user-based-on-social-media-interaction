{
 "cells": [
  {
   "cell_type": "code",
   "execution_count": 1,
   "metadata": {
    "_cell_guid": "79c7e3d0-c299-4dcb-8224-4455121ee9b0",
    "_uuid": "d629ff2d2480ee46fbb7e2d37f6b5fab8052498a",
    "execution": {
     "iopub.execute_input": "2020-12-11T18:13:06.653587Z",
     "iopub.status.busy": "2020-12-11T18:13:06.652560Z",
     "iopub.status.idle": "2020-12-11T18:13:08.763182Z",
     "shell.execute_reply": "2020-12-11T18:13:08.762417Z"
    },
    "papermill": {
     "duration": 2.137339,
     "end_time": "2020-12-11T18:13:08.763357",
     "exception": false,
     "start_time": "2020-12-11T18:13:06.626018",
     "status": "completed"
    },
    "tags": []
   },
   "outputs": [],
   "source": [
    "import pandas as pd\n",
    "import time\n",
    "import numpy as np\n",
    "import xgboost as xgb\n",
    "from sklearn.model_selection import StratifiedKFold\n",
    "from sklearn.metrics import f1_score, accuracy_score\n",
    "from sklearn.utils import class_weight"
   ]
  },
  {
   "cell_type": "code",
   "execution_count": 2,
   "metadata": {
    "execution": {
     "iopub.execute_input": "2020-12-11T18:13:08.814511Z",
     "iopub.status.busy": "2020-12-11T18:13:08.813649Z",
     "iopub.status.idle": "2020-12-11T18:13:11.707544Z",
     "shell.execute_reply": "2020-12-11T18:13:11.706586Z"
    },
    "papermill": {
     "duration": 2.924734,
     "end_time": "2020-12-11T18:13:11.707681",
     "exception": false,
     "start_time": "2020-12-11T18:13:08.782947",
     "status": "completed"
    },
    "tags": []
   },
   "outputs": [],
   "source": [
    "train = pd.read_csv('/kaggle/input/Cascade_cup/train_age_dataset.csv')\n",
    "test = pd.read_csv('/kaggle/input/Cascade_cup/test_age_dataset.csv')\n",
    "sample = pd.read_csv('/kaggle/input/Cascade_cup/sample_submission.csv')"
   ]
  },
  {
   "cell_type": "code",
   "execution_count": 3,
   "metadata": {
    "execution": {
     "iopub.execute_input": "2020-12-11T18:13:11.751711Z",
     "iopub.status.busy": "2020-12-11T18:13:11.750861Z",
     "iopub.status.idle": "2020-12-11T18:13:11.846065Z",
     "shell.execute_reply": "2020-12-11T18:13:11.846753Z"
    },
    "papermill": {
     "duration": 0.119192,
     "end_time": "2020-12-11T18:13:11.846928",
     "exception": false,
     "start_time": "2020-12-11T18:13:11.727736",
     "status": "completed"
    },
    "tags": []
   },
   "outputs": [],
   "source": [
    "train = pd.get_dummies(train, columns=['tier','gender'])\n",
    "test = pd.get_dummies(test, columns=['tier','gender'])\n",
    "\n",
    "# REMEMBER TO ADD 1 IN THE END\n",
    "\n",
    "train['age_group'] = train['age_group']-1"
   ]
  },
  {
   "cell_type": "code",
   "execution_count": 4,
   "metadata": {
    "execution": {
     "iopub.execute_input": "2020-12-11T18:13:11.893257Z",
     "iopub.status.busy": "2020-12-11T18:13:11.892148Z",
     "iopub.status.idle": "2020-12-11T18:13:11.896816Z",
     "shell.execute_reply": "2020-12-11T18:13:11.895801Z"
    },
    "papermill": {
     "duration": 0.029818,
     "end_time": "2020-12-11T18:13:11.896958",
     "exception": false,
     "start_time": "2020-12-11T18:13:11.867140",
     "status": "completed"
    },
    "tags": []
   },
   "outputs": [],
   "source": [
    "# ,'tier_1','tier_3','num_of_hashtags_per_action','kfold'"
   ]
  },
  {
   "cell_type": "code",
   "execution_count": 5,
   "metadata": {
    "execution": {
     "iopub.execute_input": "2020-12-11T18:13:11.944482Z",
     "iopub.status.busy": "2020-12-11T18:13:11.943520Z",
     "iopub.status.idle": "2020-12-11T18:13:11.954569Z",
     "shell.execute_reply": "2020-12-11T18:13:11.953806Z"
    },
    "papermill": {
     "duration": 0.037733,
     "end_time": "2020-12-11T18:13:11.954705",
     "exception": false,
     "start_time": "2020-12-11T18:13:11.916972",
     "status": "completed"
    },
    "tags": []
   },
   "outputs": [],
   "source": [
    "train['zero creations'] = np.where(train.creations == 0, 1, 0)"
   ]
  },
  {
   "cell_type": "code",
   "execution_count": 6,
   "metadata": {
    "execution": {
     "iopub.execute_input": "2020-12-11T18:13:12.002448Z",
     "iopub.status.busy": "2020-12-11T18:13:12.001682Z",
     "iopub.status.idle": "2020-12-11T18:13:12.007674Z",
     "shell.execute_reply": "2020-12-11T18:13:12.007023Z"
    },
    "papermill": {
     "duration": 0.032719,
     "end_time": "2020-12-11T18:13:12.007813",
     "exception": false,
     "start_time": "2020-12-11T18:13:11.975094",
     "status": "completed"
    },
    "tags": []
   },
   "outputs": [],
   "source": [
    "test['zero creations'] = np.where(test.creations == 0, 1, 0)"
   ]
  },
  {
   "cell_type": "code",
   "execution_count": 7,
   "metadata": {
    "execution": {
     "iopub.execute_input": "2020-12-11T18:13:12.043533Z",
     "iopub.status.busy": "2020-12-11T18:13:12.042698Z",
     "iopub.status.idle": "2020-12-11T18:13:12.046473Z",
     "shell.execute_reply": "2020-12-11T18:13:12.046930Z"
    },
    "papermill": {
     "duration": 0.025392,
     "end_time": "2020-12-11T18:13:12.047057",
     "exception": false,
     "start_time": "2020-12-11T18:13:12.021665",
     "status": "completed"
    },
    "tags": []
   },
   "outputs": [],
   "source": [
    "feature_cols = [col for col in train.columns.tolist() if col not in ['age_group','gender_2','tier_1','tier_3','num_of_hashtags_per_action','creations','kfold','avgDuration','avgCompletion']]\n",
    "target_cols = ['age_group']"
   ]
  },
  {
   "cell_type": "code",
   "execution_count": 8,
   "metadata": {
    "execution": {
     "iopub.execute_input": "2020-12-11T18:13:12.083641Z",
     "iopub.status.busy": "2020-12-11T18:13:12.082975Z",
     "iopub.status.idle": "2020-12-11T18:13:12.357554Z",
     "shell.execute_reply": "2020-12-11T18:13:12.356955Z"
    },
    "papermill": {
     "duration": 0.296986,
     "end_time": "2020-12-11T18:13:12.357665",
     "exception": false,
     "start_time": "2020-12-11T18:13:12.060679",
     "status": "completed"
    },
    "tags": []
   },
   "outputs": [],
   "source": [
    "# KFOLD\n",
    "skf = StratifiedKFold(n_splits=5, random_state=0, shuffle=True)\n",
    "\n",
    "for i, (trn, val) in enumerate(skf.split(train[target_cols], train[target_cols])):\n",
    "    train.loc[val, 'kfold'] = i\n",
    "train['kfold'] = train['kfold'].astype(int)"
   ]
  },
  {
   "cell_type": "code",
   "execution_count": 9,
   "metadata": {
    "execution": {
     "iopub.execute_input": "2020-12-11T18:13:12.393391Z",
     "iopub.status.busy": "2020-12-11T18:13:12.392408Z",
     "iopub.status.idle": "2020-12-11T18:13:12.548851Z",
     "shell.execute_reply": "2020-12-11T18:13:12.548149Z"
    },
    "papermill": {
     "duration": 0.17709,
     "end_time": "2020-12-11T18:13:12.548984",
     "exception": false,
     "start_time": "2020-12-11T18:13:12.371894",
     "status": "completed"
    },
    "tags": []
   },
   "outputs": [
    {
     "name": "stderr",
     "output_type": "stream",
     "text": [
      "/opt/conda/lib/python3.7/site-packages/sklearn/utils/validation.py:70: FutureWarning: Pass classes=[0 1 2 3], y=0         0\n",
      "1         1\n",
      "2         0\n",
      "3         0\n",
      "4         0\n",
      "         ..\n",
      "488872    0\n",
      "488873    3\n",
      "488874    3\n",
      "488875    0\n",
      "488876    0\n",
      "Name: age_group, Length: 488877, dtype: int64 as keyword args. From version 0.25 passing these as positional arguments will result in an error\n",
      "  FutureWarning)\n"
     ]
    }
   ],
   "source": [
    "class_weights = list(class_weight.compute_class_weight('balanced',\n",
    "                                             np.unique(train['age_group']),\n",
    "                                             train['age_group']))"
   ]
  },
  {
   "cell_type": "code",
   "execution_count": 10,
   "metadata": {
    "execution": {
     "iopub.execute_input": "2020-12-11T18:13:12.607737Z",
     "iopub.status.busy": "2020-12-11T18:13:12.595706Z",
     "iopub.status.idle": "2020-12-11T18:13:12.621473Z",
     "shell.execute_reply": "2020-12-11T18:13:12.620769Z"
    },
    "papermill": {
     "duration": 0.05077,
     "end_time": "2020-12-11T18:13:12.621606",
     "exception": false,
     "start_time": "2020-12-11T18:13:12.570836",
     "status": "completed"
    },
    "tags": []
   },
   "outputs": [],
   "source": [
    "def run_training():\n",
    "    oof = np.zeros((train.shape[0], 4))\n",
    "    pred = np.zeros((test.shape[0], 4))\n",
    "    \n",
    "    for fold in range(5):\n",
    "        \n",
    "        print(f\"\\nStarting FOLD: {fold}\")\n",
    "        start = time.time()\n",
    "        \n",
    "\n",
    "        trn_idx = train['kfold'] != fold\n",
    "        val_idx = train['kfold'] == fold\n",
    "        trn = train.loc[trn_idx, :]\n",
    "        val = train.loc[val_idx, :]\n",
    "\n",
    "        xtr, ytr = trn[feature_cols].values, trn[target_cols].values\n",
    "        xval, yval = val[feature_cols].values, val[target_cols].values\n",
    "        xtest = test[feature_cols].values\n",
    "\n",
    "        model = xgb.XGBClassifier(n_estimators = 500, reg_alpha=0.7)\n",
    "        print(\"Fitting model ...\")\n",
    "        model.fit(xtr, ytr.reshape(-1,))\n",
    "        \n",
    "        print(\"Calculating training preds ...\")\n",
    "        train_preds = model.predict(xtr)\n",
    "        print(\"Calculating validation preds ...\")\n",
    "        val_preds = model.predict(xval)\n",
    "        print(\"Training Accuracy Score - \", accuracy_score(ytr, train_preds ))\n",
    "        print(\"Training F1 Score - \", f1_score(ytr, train_preds, average='weighted'))\n",
    "        \n",
    "        print(\"Validation Accuracy Score - \", accuracy_score(yval, val_preds))\n",
    "        print(\"Validation F1 Score - \", f1_score(yval, val_preds, average='weighted'))\n",
    "        \n",
    "        oof[val_idx, :] += model.predict_proba(xval)\n",
    "        \n",
    "        # Test preds\n",
    "        pred += model.predict_proba(xtest)/5\n",
    "        \n",
    "        print(f\"FOLD {fold} completed in {time.time()-start} seconds\")\n",
    "        \n",
    "    return oof, pred"
   ]
  },
  {
   "cell_type": "code",
   "execution_count": 11,
   "metadata": {
    "execution": {
     "iopub.execute_input": "2020-12-11T18:13:12.671711Z",
     "iopub.status.busy": "2020-12-11T18:13:12.670560Z",
     "iopub.status.idle": "2020-12-11T19:10:15.281831Z",
     "shell.execute_reply": "2020-12-11T19:10:15.282975Z"
    },
    "papermill": {
     "duration": 3422.639637,
     "end_time": "2020-12-11T19:10:15.283220",
     "exception": false,
     "start_time": "2020-12-11T18:13:12.643583",
     "status": "completed"
    },
    "tags": []
   },
   "outputs": [
    {
     "name": "stdout",
     "output_type": "stream",
     "text": [
      "\n",
      "Starting FOLD: 0\n",
      "Fitting model ...\n",
      "Calculating training preds ...\n",
      "Calculating validation preds ...\n",
      "Training Accuracy Score -  0.9047279347278581\n",
      "Training F1 Score -  0.9009538167099721\n",
      "Validation Accuracy Score -  0.8141363933889707\n",
      "Validation F1 Score -  0.8063147035796259\n",
      "FOLD 0 completed in 678.6991500854492 seconds\n",
      "\n",
      "Starting FOLD: 1\n",
      "Fitting model ...\n",
      "Calculating training preds ...\n",
      "Calculating validation preds ...\n",
      "Training Accuracy Score -  0.9039915520543287\n",
      "Training F1 Score -  0.9002007581154589\n",
      "Validation Accuracy Score -  0.8148114056619211\n",
      "Validation F1 Score -  0.8072486591103194\n",
      "FOLD 1 completed in 668.931955575943 seconds\n",
      "\n",
      "Starting FOLD: 2\n",
      "Fitting model ...\n",
      "Calculating training preds ...\n",
      "Calculating validation preds ...\n",
      "Training Accuracy Score -  0.9045159574740094\n",
      "Training F1 Score -  0.9007246495892937\n",
      "Validation Accuracy Score -  0.815392482740987\n",
      "Validation F1 Score -  0.807447003277219\n",
      "FOLD 2 completed in 693.6492130756378 seconds\n",
      "\n",
      "Starting FOLD: 3\n",
      "Fitting model ...\n",
      "Calculating training preds ...\n",
      "Calculating validation preds ...\n",
      "Training Accuracy Score -  0.9042168027777919\n",
      "Training F1 Score -  0.90030834077668\n",
      "Validation Accuracy Score -  0.8149833802096651\n",
      "Validation F1 Score -  0.8072735884194224\n",
      "FOLD 3 completed in 692.4428157806396 seconds\n",
      "\n",
      "Starting FOLD: 4\n",
      "Fitting model ...\n",
      "Calculating training preds ...\n",
      "Calculating validation preds ...\n",
      "Training Accuracy Score -  0.9053213739638253\n",
      "Training F1 Score -  0.9015282828328394\n",
      "Validation Accuracy Score -  0.812835591920225\n",
      "Validation F1 Score -  0.8049194837212374\n",
      "FOLD 4 completed in 688.8780674934387 seconds\n"
     ]
    }
   ],
   "source": [
    "oof_xgb, pred_xgb = run_training()   \n",
    "#100 trees - 79.00                                  \n",
    "#150 trees - 79.41                                 \n",
    "#200 trees - 79.79                                  \n",
    "#300 trees - unregularized               - 80.17                   \n",
    "#300 trees - reg_alpha=0.1, reg_lambda=2 - 80.23   \n",
    "#300 trees - reg_alpha=0.2, reg_lambda=5 - 80.24  -- OOF - 80.26 \n",
    "#300 trees - reg_alpha=1.5, reg_lambda=5 - 80.20   \n",
    "#400 trees - unregularized               - 80.33\n",
    "#500 trees - unregularized               - 80.44\n",
    "#500 tress - reg_alpha=0.5, reg_lambda=5 - 80.53  -- OOF - 80.56 -- might be overfit \n",
    "#500 tress - reg_alpha=0.8, reg_lambda=5 - 80.44  -- OOF - 80.53\n",
    "#500 trees - reg_alpha=0.7               - 80.47  -- OOF - 80.54 -- overfit\n",
    "#500 trees - reg_alpha=0.7, reg_lambda=15 - 80.39 -- OOF - 80.44 -- overfit LB-80.86 \n",
    "#500 trees - reg_alpha=5, max_depth=7    - 80.52  -- OOF - 80.57 -- overfit LB-80.915 "
   ]
  },
  {
   "cell_type": "code",
   "execution_count": 12,
   "metadata": {
    "execution": {
     "iopub.execute_input": "2020-12-11T19:10:15.373118Z",
     "iopub.status.busy": "2020-12-11T19:10:15.372226Z",
     "iopub.status.idle": "2020-12-11T19:10:15.374400Z",
     "shell.execute_reply": "2020-12-11T19:10:15.375294Z"
    },
    "papermill": {
     "duration": 0.051161,
     "end_time": "2020-12-11T19:10:15.375461",
     "exception": false,
     "start_time": "2020-12-11T19:10:15.324300",
     "status": "completed"
    },
    "tags": []
   },
   "outputs": [],
   "source": [
    "def find_oof_score(oof):\n",
    "    predictions = oof.argmax(axis=1)\n",
    "    print(\"OOF Accuracy Score - \", accuracy_score(train[target_cols], predictions))\n",
    "    print(\"OOF F1 Score - \", f1_score(train[target_cols], predictions, average='weighted'))"
   ]
  },
  {
   "cell_type": "code",
   "execution_count": 13,
   "metadata": {
    "execution": {
     "iopub.execute_input": "2020-12-11T19:10:15.466627Z",
     "iopub.status.busy": "2020-12-11T19:10:15.465716Z",
     "iopub.status.idle": "2020-12-11T19:10:15.715006Z",
     "shell.execute_reply": "2020-12-11T19:10:15.715655Z"
    },
    "papermill": {
     "duration": 0.300316,
     "end_time": "2020-12-11T19:10:15.715819",
     "exception": false,
     "start_time": "2020-12-11T19:10:15.415503",
     "status": "completed"
    },
    "tags": []
   },
   "outputs": [
    {
     "name": "stdout",
     "output_type": "stream",
     "text": [
      "OOF Accuracy Score -  0.8144318509563755\n",
      "OOF F1 Score -  0.8066411146358526\n"
     ]
    }
   ],
   "source": [
    "find_oof_score(oof_xgb) # 80.26"
   ]
  },
  {
   "cell_type": "code",
   "execution_count": 14,
   "metadata": {
    "execution": {
     "iopub.execute_input": "2020-12-11T19:10:15.796946Z",
     "iopub.status.busy": "2020-12-11T19:10:15.796085Z",
     "iopub.status.idle": "2020-12-11T19:10:15.799816Z",
     "shell.execute_reply": "2020-12-11T19:10:15.800502Z"
    },
    "papermill": {
     "duration": 0.048408,
     "end_time": "2020-12-11T19:10:15.800674",
     "exception": false,
     "start_time": "2020-12-11T19:10:15.752266",
     "status": "completed"
    },
    "tags": []
   },
   "outputs": [
    {
     "data": {
      "text/plain": [
       "(54320, 4)"
      ]
     },
     "execution_count": 14,
     "metadata": {},
     "output_type": "execute_result"
    }
   ],
   "source": [
    "pred_xgb.shape"
   ]
  },
  {
   "cell_type": "code",
   "execution_count": 15,
   "metadata": {
    "execution": {
     "iopub.execute_input": "2020-12-11T19:10:15.877908Z",
     "iopub.status.busy": "2020-12-11T19:10:15.877072Z",
     "iopub.status.idle": "2020-12-11T19:10:15.899284Z",
     "shell.execute_reply": "2020-12-11T19:10:15.898489Z"
    },
    "papermill": {
     "duration": 0.061729,
     "end_time": "2020-12-11T19:10:15.899410",
     "exception": false,
     "start_time": "2020-12-11T19:10:15.837681",
     "status": "completed"
    },
    "tags": []
   },
   "outputs": [
    {
     "data": {
      "text/html": [
       "<div>\n",
       "<style scoped>\n",
       "    .dataframe tbody tr th:only-of-type {\n",
       "        vertical-align: middle;\n",
       "    }\n",
       "\n",
       "    .dataframe tbody tr th {\n",
       "        vertical-align: top;\n",
       "    }\n",
       "\n",
       "    .dataframe thead th {\n",
       "        text-align: right;\n",
       "    }\n",
       "</style>\n",
       "<table border=\"1\" class=\"dataframe\">\n",
       "  <thead>\n",
       "    <tr style=\"text-align: right;\">\n",
       "      <th></th>\n",
       "      <th>prediction</th>\n",
       "    </tr>\n",
       "  </thead>\n",
       "  <tbody>\n",
       "    <tr>\n",
       "      <th>0</th>\n",
       "      <td>1</td>\n",
       "    </tr>\n",
       "    <tr>\n",
       "      <th>1</th>\n",
       "      <td>1</td>\n",
       "    </tr>\n",
       "    <tr>\n",
       "      <th>2</th>\n",
       "      <td>1</td>\n",
       "    </tr>\n",
       "    <tr>\n",
       "      <th>3</th>\n",
       "      <td>3</td>\n",
       "    </tr>\n",
       "    <tr>\n",
       "      <th>4</th>\n",
       "      <td>1</td>\n",
       "    </tr>\n",
       "    <tr>\n",
       "      <th>...</th>\n",
       "      <td>...</td>\n",
       "    </tr>\n",
       "    <tr>\n",
       "      <th>54315</th>\n",
       "      <td>1</td>\n",
       "    </tr>\n",
       "    <tr>\n",
       "      <th>54316</th>\n",
       "      <td>1</td>\n",
       "    </tr>\n",
       "    <tr>\n",
       "      <th>54317</th>\n",
       "      <td>4</td>\n",
       "    </tr>\n",
       "    <tr>\n",
       "      <th>54318</th>\n",
       "      <td>1</td>\n",
       "    </tr>\n",
       "    <tr>\n",
       "      <th>54319</th>\n",
       "      <td>1</td>\n",
       "    </tr>\n",
       "  </tbody>\n",
       "</table>\n",
       "<p>54320 rows × 1 columns</p>\n",
       "</div>"
      ],
      "text/plain": [
       "       prediction\n",
       "0               1\n",
       "1               1\n",
       "2               1\n",
       "3               3\n",
       "4               1\n",
       "...           ...\n",
       "54315           1\n",
       "54316           1\n",
       "54317           4\n",
       "54318           1\n",
       "54319           1\n",
       "\n",
       "[54320 rows x 1 columns]"
      ]
     },
     "execution_count": 15,
     "metadata": {},
     "output_type": "execute_result"
    }
   ],
   "source": [
    "final_preds = pred_xgb.argmax(axis=1)+1\n",
    "pred_csv = pd.DataFrame(final_preds.reshape(-1), columns=['prediction'] )\n",
    "pred_csv"
   ]
  },
  {
   "cell_type": "code",
   "execution_count": 16,
   "metadata": {
    "execution": {
     "iopub.execute_input": "2020-12-11T19:10:15.979664Z",
     "iopub.status.busy": "2020-12-11T19:10:15.978554Z",
     "iopub.status.idle": "2020-12-11T19:10:15.989317Z",
     "shell.execute_reply": "2020-12-11T19:10:15.990078Z"
    },
    "papermill": {
     "duration": 0.052827,
     "end_time": "2020-12-11T19:10:15.990251",
     "exception": false,
     "start_time": "2020-12-11T19:10:15.937424",
     "status": "completed"
    },
    "tags": []
   },
   "outputs": [
    {
     "data": {
      "text/plain": [
       "prediction\n",
       "1             34951\n",
       "2              8175\n",
       "3              7817\n",
       "4              3377\n",
       "dtype: int64"
      ]
     },
     "execution_count": 16,
     "metadata": {},
     "output_type": "execute_result"
    }
   ],
   "source": [
    "pred_csv.value_counts()"
   ]
  },
  {
   "cell_type": "code",
   "execution_count": 17,
   "metadata": {
    "execution": {
     "iopub.execute_input": "2020-12-11T19:10:16.070462Z",
     "iopub.status.busy": "2020-12-11T19:10:16.069392Z",
     "iopub.status.idle": "2020-12-11T19:10:16.479169Z",
     "shell.execute_reply": "2020-12-11T19:10:16.478445Z"
    },
    "papermill": {
     "duration": 0.450953,
     "end_time": "2020-12-11T19:10:16.479378",
     "exception": false,
     "start_time": "2020-12-11T19:10:16.028425",
     "status": "completed"
    },
    "tags": []
   },
   "outputs": [],
   "source": [
    "pred_csv.to_csv('newsub7.csv', index=False)"
   ]
  },
  {
   "cell_type": "code",
   "execution_count": 18,
   "metadata": {
    "execution": {
     "iopub.execute_input": "2020-12-11T19:10:16.563093Z",
     "iopub.status.busy": "2020-12-11T19:10:16.562042Z",
     "iopub.status.idle": "2020-12-11T19:10:16.589035Z",
     "shell.execute_reply": "2020-12-11T19:10:16.589848Z"
    },
    "papermill": {
     "duration": 0.070472,
     "end_time": "2020-12-11T19:10:16.590020",
     "exception": false,
     "start_time": "2020-12-11T19:10:16.519548",
     "status": "completed"
    },
    "tags": []
   },
   "outputs": [],
   "source": [
    "np.save('oof_xgb_8066_8100.npy', oof_xgb)\n",
    "np.save('pred_xgb_8066_8100.npy', pred_xgb)"
   ]
  },
  {
   "cell_type": "code",
   "execution_count": null,
   "metadata": {
    "papermill": {
     "duration": 0.03881,
     "end_time": "2020-12-11T19:10:16.669378",
     "exception": false,
     "start_time": "2020-12-11T19:10:16.630568",
     "status": "completed"
    },
    "tags": []
   },
   "outputs": [],
   "source": []
  }
 ],
 "metadata": {
  "kernelspec": {
   "display_name": "Python 3",
   "language": "python",
   "name": "python3"
  },
  "language_info": {
   "codemirror_mode": {
    "name": "ipython",
    "version": 3
   },
   "file_extension": ".py",
   "mimetype": "text/x-python",
   "name": "python",
   "nbconvert_exporter": "python",
   "pygments_lexer": "ipython3",
   "version": "3.7.3"
  },
  "papermill": {
   "duration": 3435.460659,
   "end_time": "2020-12-11T19:10:16.815948",
   "environment_variables": {},
   "exception": null,
   "input_path": "__notebook__.ipynb",
   "output_path": "__notebook__.ipynb",
   "parameters": {},
   "start_time": "2020-12-11T18:13:01.355289",
   "version": "2.1.0"
  }
 },
 "nbformat": 4,
 "nbformat_minor": 4
}
