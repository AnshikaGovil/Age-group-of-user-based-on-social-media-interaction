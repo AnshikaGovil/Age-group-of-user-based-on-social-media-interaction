{
 "cells": [
  {
   "cell_type": "code",
   "execution_count": 1,
   "metadata": {
    "_cell_guid": "b1076dfc-b9ad-4769-8c92-a6c4dae69d19",
    "_uuid": "8f2839f25d086af736a60e9eeb907d3b93b6e0e5",
    "execution": {
     "iopub.execute_input": "2020-12-10T23:39:31.817625Z",
     "iopub.status.busy": "2020-12-10T23:39:31.816981Z",
     "iopub.status.idle": "2020-12-10T23:39:31.828260Z",
     "shell.execute_reply": "2020-12-10T23:39:31.827661Z"
    },
    "papermill": {
     "duration": 0.031727,
     "end_time": "2020-12-10T23:39:31.828368",
     "exception": false,
     "start_time": "2020-12-10T23:39:31.796641",
     "status": "completed"
    },
    "tags": []
   },
   "outputs": [
    {
     "name": "stdout",
     "output_type": "stream",
     "text": [
      "/kaggle/input/cascade-cup-debye/Cascade_cup/sample_submission.csv\n",
      "/kaggle/input/cascade-cup-debye/Cascade_cup/test_age_dataset.csv\n",
      "/kaggle/input/cascade-cup-debye/Cascade_cup/train_age_dataset.csv\n"
     ]
    }
   ],
   "source": [
    "# This Python 3 environment comes with many helpful analytics libraries installed\n",
    "# It is defined by the kaggle/python Docker image: https://github.com/kaggle/docker-python\n",
    "# For example, here's several helpful packages to load\n",
    "\n",
    "import numpy as np # linear algebra\n",
    "import pandas as pd # data processing, CSV file I/O (e.g. pd.read_csv)\n",
    "\n",
    "# Input data files are available in the read-only \"../input/\" directory\n",
    "# For example, running this (by clicking run or pressing Shift+Enter) will list all files under the input directory\n",
    "\n",
    "import os\n",
    "for dirname, _, filenames in os.walk('/kaggle/input'):\n",
    "    for filename in filenames:\n",
    "        print(os.path.join(dirname, filename))\n",
    "\n",
    "# You can write up to 20GB to the current directory (/kaggle/working/) that gets preserved as output when you create a version using \"Save & Run All\" \n",
    "# You can also write temporary files to /kaggle/temp/, but they won't be saved outside of the current session"
   ]
  },
  {
   "cell_type": "code",
   "execution_count": 2,
   "metadata": {
    "_cell_guid": "79c7e3d0-c299-4dcb-8224-4455121ee9b0",
    "_uuid": "d629ff2d2480ee46fbb7e2d37f6b5fab8052498a",
    "execution": {
     "iopub.execute_input": "2020-12-10T23:39:31.857198Z",
     "iopub.status.busy": "2020-12-10T23:39:31.856522Z",
     "iopub.status.idle": "2020-12-10T23:39:32.904500Z",
     "shell.execute_reply": "2020-12-10T23:39:32.904973Z"
    },
    "papermill": {
     "duration": 1.065305,
     "end_time": "2020-12-10T23:39:32.905114",
     "exception": false,
     "start_time": "2020-12-10T23:39:31.839809",
     "status": "completed"
    },
    "tags": []
   },
   "outputs": [],
   "source": [
    "import pandas as pd\n",
    "import time\n",
    "import numpy as np\n",
    "from sklearn.ensemble import RandomForestClassifier\n",
    "from sklearn.model_selection import StratifiedKFold\n",
    "from sklearn.metrics import f1_score, accuracy_score\n",
    "from sklearn.utils import class_weight"
   ]
  },
  {
   "cell_type": "code",
   "execution_count": 3,
   "metadata": {
    "execution": {
     "iopub.execute_input": "2020-12-10T23:39:32.930495Z",
     "iopub.status.busy": "2020-12-10T23:39:32.929897Z",
     "iopub.status.idle": "2020-12-10T23:39:35.579482Z",
     "shell.execute_reply": "2020-12-10T23:39:35.578812Z"
    },
    "papermill": {
     "duration": 2.662933,
     "end_time": "2020-12-10T23:39:35.579591",
     "exception": false,
     "start_time": "2020-12-10T23:39:32.916658",
     "status": "completed"
    },
    "tags": []
   },
   "outputs": [],
   "source": [
    "train = pd.read_csv('/kaggle/input/Cascade_cup/train_age_dataset.csv')\n",
    "test = pd.read_csv('/kaggle/input/Cascade_cup/test_age_dataset.csv')\n",
    "sample = pd.read_csv('/kaggle/input/Cascade_cup/sample_submission.csv')"
   ]
  },
  {
   "cell_type": "code",
   "execution_count": 4,
   "metadata": {
    "execution": {
     "iopub.execute_input": "2020-12-10T23:39:35.612439Z",
     "iopub.status.busy": "2020-12-10T23:39:35.611789Z",
     "iopub.status.idle": "2020-12-10T23:39:35.713520Z",
     "shell.execute_reply": "2020-12-10T23:39:35.714051Z"
    },
    "papermill": {
     "duration": 0.123417,
     "end_time": "2020-12-10T23:39:35.714216",
     "exception": false,
     "start_time": "2020-12-10T23:39:35.590799",
     "status": "completed"
    },
    "tags": []
   },
   "outputs": [],
   "source": [
    "train = pd.get_dummies(train, columns=['tier','gender'])\n",
    "test = pd.get_dummies(test, columns=['tier','gender'])\n",
    "\n",
    "# REMEMBER TO ADD 1 IN THE END\n",
    "\n",
    "train['age_group'] = train['age_group']-1"
   ]
  },
  {
   "cell_type": "code",
   "execution_count": 5,
   "metadata": {
    "execution": {
     "iopub.execute_input": "2020-12-10T23:39:35.740312Z",
     "iopub.status.busy": "2020-12-10T23:39:35.739697Z",
     "iopub.status.idle": "2020-12-10T23:39:35.744054Z",
     "shell.execute_reply": "2020-12-10T23:39:35.744614Z"
    },
    "papermill": {
     "duration": 0.019282,
     "end_time": "2020-12-10T23:39:35.744752",
     "exception": false,
     "start_time": "2020-12-10T23:39:35.725470",
     "status": "completed"
    },
    "tags": []
   },
   "outputs": [],
   "source": [
    "feature_cols = [col for col in train.columns.tolist() if col not in ['age_group','num_of_hashtags_per_action','emoji_count_per_action','tier_1','tier_3']]\n",
    "target_cols = ['age_group']"
   ]
  },
  {
   "cell_type": "code",
   "execution_count": 6,
   "metadata": {
    "execution": {
     "iopub.execute_input": "2020-12-10T23:39:35.774067Z",
     "iopub.status.busy": "2020-12-10T23:39:35.773419Z",
     "iopub.status.idle": "2020-12-10T23:39:35.991257Z",
     "shell.execute_reply": "2020-12-10T23:39:35.990401Z"
    },
    "papermill": {
     "duration": 0.235339,
     "end_time": "2020-12-10T23:39:35.991395",
     "exception": false,
     "start_time": "2020-12-10T23:39:35.756056",
     "status": "completed"
    },
    "tags": []
   },
   "outputs": [],
   "source": [
    "# KFOLD\n",
    "skf = StratifiedKFold(n_splits=5, random_state=0, shuffle=True)\n",
    "\n",
    "for i, (trn, val) in enumerate(skf.split(train[target_cols], train[target_cols])):\n",
    "    train.loc[val, 'kfold'] = i\n",
    "train['kfold'] = train['kfold'].astype(int)"
   ]
  },
  {
   "cell_type": "code",
   "execution_count": 7,
   "metadata": {
    "execution": {
     "iopub.execute_input": "2020-12-10T23:39:36.040497Z",
     "iopub.status.busy": "2020-12-10T23:39:36.039885Z",
     "iopub.status.idle": "2020-12-10T23:39:36.044116Z",
     "shell.execute_reply": "2020-12-10T23:39:36.044783Z"
    },
    "papermill": {
     "duration": 0.0363,
     "end_time": "2020-12-10T23:39:36.044936",
     "exception": false,
     "start_time": "2020-12-10T23:39:36.008636",
     "status": "completed"
    },
    "tags": []
   },
   "outputs": [],
   "source": [
    "def run_training():\n",
    "    oof = np.zeros((train.shape[0], 4))\n",
    "    pred = np.zeros((test.shape[0], 4))\n",
    "    \n",
    "    for fold in range(5):\n",
    "        \n",
    "        print(f\"\\nStarting FOLD: {fold}\")\n",
    "        start = time.time()\n",
    "        \n",
    "\n",
    "        trn_idx = train['kfold'] != fold\n",
    "        val_idx = train['kfold'] == fold\n",
    "        trn = train.loc[trn_idx, :]\n",
    "        val = train.loc[val_idx, :]\n",
    "\n",
    "        xtr, ytr = trn[feature_cols].values, trn[target_cols].values\n",
    "        xval, yval = val[feature_cols].values, val[target_cols].values\n",
    "        xtest = test[feature_cols].values\n",
    "\n",
    "        model = RandomForestClassifier(n_estimators=400, max_depth=15, max_features='sqrt')\n",
    "        print(\"Fitting model ...\")\n",
    "        model.fit(xtr, ytr.reshape(-1,))\n",
    "        \n",
    "        print(\"Calculating training preds ...\")\n",
    "        train_preds = model.predict(xtr)\n",
    "        print(\"Calculating validation preds ...\")\n",
    "        val_preds = model.predict(xval)\n",
    "        print(\"Training Accuracy Score - \", accuracy_score(ytr, train_preds ))\n",
    "        print(\"Training F1 Score - \", f1_score(ytr, train_preds, average='weighted'))\n",
    "        \n",
    "        print(\"Validation Accuracy Score - \", accuracy_score(yval, val_preds))\n",
    "        print(\"Validation F1 Score - \", f1_score(yval, val_preds, average='weighted'))\n",
    "        \n",
    "        oof[val_idx, :] += model.predict_proba(xval)\n",
    "        \n",
    "        # Test preds\n",
    "        pred += model.predict_proba(xtest)/5\n",
    "        \n",
    "        print(f\"FOLD {fold} completed in {time.time()-start} seconds\")\n",
    "        \n",
    "    return oof, pred"
   ]
  },
  {
   "cell_type": "code",
   "execution_count": 8,
   "metadata": {
    "execution": {
     "iopub.execute_input": "2020-12-10T23:39:36.084048Z",
     "iopub.status.busy": "2020-12-10T23:39:36.082795Z",
     "iopub.status.idle": "2020-12-11T00:25:57.975579Z",
     "shell.execute_reply": "2020-12-11T00:25:57.976288Z"
    },
    "papermill": {
     "duration": 2781.914206,
     "end_time": "2020-12-11T00:25:57.976447",
     "exception": false,
     "start_time": "2020-12-10T23:39:36.062241",
     "status": "completed"
    },
    "tags": []
   },
   "outputs": [
    {
     "name": "stdout",
     "output_type": "stream",
     "text": [
      "\n",
      "Starting FOLD: 0\n",
      "Fitting model ...\n",
      "Calculating training preds ...\n",
      "Calculating validation preds ...\n",
      "Training Accuracy Score -  0.8536669555945906\n",
      "Training F1 Score -  0.853334566186067\n",
      "Validation Accuracy Score -  0.7676730486008837\n",
      "Validation F1 Score -  0.7668855227646146\n",
      "FOLD 0 completed in 558.9609444141388 seconds\n",
      "\n",
      "Starting FOLD: 1\n",
      "Fitting model ...\n",
      "Calculating training preds ...\n",
      "Calculating validation preds ...\n",
      "Training Accuracy Score -  0.8550732419502891\n",
      "Training F1 Score -  0.854285865037793\n",
      "Validation Accuracy Score -  0.7690742104401899\n",
      "Validation F1 Score -  0.7675117328360401\n",
      "FOLD 1 completed in 553.8857092857361 seconds\n",
      "\n",
      "Starting FOLD: 2\n",
      "Fitting model ...\n",
      "Calculating training preds ...\n",
      "Calculating validation preds ...\n",
      "Training Accuracy Score -  0.8539076762583674\n",
      "Training F1 Score -  0.8532621969979965\n",
      "Validation Accuracy Score -  0.7684479672717975\n",
      "Validation F1 Score -  0.7666508490628322\n",
      "FOLD 2 completed in 550.2530088424683 seconds\n",
      "\n",
      "Starting FOLD: 3\n",
      "Fitting model ...\n",
      "Calculating training preds ...\n",
      "Calculating validation preds ...\n",
      "Training Accuracy Score -  0.8542068309545847\n",
      "Training F1 Score -  0.8540264102409991\n",
      "Validation Accuracy Score -  0.7681002301201739\n",
      "Validation F1 Score -  0.7671384099887938\n",
      "FOLD 3 completed in 566.3361947536469 seconds\n",
      "\n",
      "Starting FOLD: 4\n",
      "Fitting model ...\n",
      "Calculating training preds ...\n",
      "Calculating validation preds ...\n",
      "Training Accuracy Score -  0.8553676534510178\n",
      "Training F1 Score -  0.854990742127077\n",
      "Validation Accuracy Score -  0.7664842751214523\n",
      "Validation F1 Score -  0.7659115686238789\n",
      "FOLD 4 completed in 552.4418230056763 seconds\n"
     ]
    }
   ],
   "source": [
    "oof_xgb, pred_xgb = run_training()"
   ]
  },
  {
   "cell_type": "code",
   "execution_count": 9,
   "metadata": {
    "execution": {
     "iopub.execute_input": "2020-12-11T00:25:58.042744Z",
     "iopub.status.busy": "2020-12-11T00:25:58.041932Z",
     "iopub.status.idle": "2020-12-11T00:25:58.044229Z",
     "shell.execute_reply": "2020-12-11T00:25:58.044896Z"
    },
    "papermill": {
     "duration": 0.039327,
     "end_time": "2020-12-11T00:25:58.045042",
     "exception": false,
     "start_time": "2020-12-11T00:25:58.005715",
     "status": "completed"
    },
    "tags": []
   },
   "outputs": [],
   "source": [
    "def find_oof_score(oof):\n",
    "    predictions = oof.argmax(axis=1)\n",
    "    print(\"OOF Accuracy Score - \", accuracy_score(train[target_cols], predictions))\n",
    "    print(\"OOF F1 Score - \", f1_score(train[target_cols], predictions, average='weighted'))"
   ]
  },
  {
   "cell_type": "code",
   "execution_count": 10,
   "metadata": {
    "execution": {
     "iopub.execute_input": "2020-12-11T00:25:58.106966Z",
     "iopub.status.busy": "2020-12-11T00:25:58.106178Z",
     "iopub.status.idle": "2020-12-11T00:25:58.357545Z",
     "shell.execute_reply": "2020-12-11T00:25:58.356826Z"
    },
    "papermill": {
     "duration": 0.283289,
     "end_time": "2020-12-11T00:25:58.357687",
     "exception": false,
     "start_time": "2020-12-11T00:25:58.074398",
     "status": "completed"
    },
    "tags": []
   },
   "outputs": [
    {
     "name": "stdout",
     "output_type": "stream",
     "text": [
      "OOF Accuracy Score -  0.7679559480196451\n",
      "OOF F1 Score -  0.7668208191337091\n"
     ]
    }
   ],
   "source": [
    "find_oof_score(oof_xgb)"
   ]
  },
  {
   "cell_type": "code",
   "execution_count": 11,
   "metadata": {
    "execution": {
     "iopub.execute_input": "2020-12-11T00:25:58.404372Z",
     "iopub.status.busy": "2020-12-11T00:25:58.403731Z",
     "iopub.status.idle": "2020-12-11T00:25:58.422166Z",
     "shell.execute_reply": "2020-12-11T00:25:58.421573Z"
    },
    "papermill": {
     "duration": 0.043091,
     "end_time": "2020-12-11T00:25:58.422267",
     "exception": false,
     "start_time": "2020-12-11T00:25:58.379176",
     "status": "completed"
    },
    "tags": []
   },
   "outputs": [
    {
     "data": {
      "text/html": [
       "<div>\n",
       "<style scoped>\n",
       "    .dataframe tbody tr th:only-of-type {\n",
       "        vertical-align: middle;\n",
       "    }\n",
       "\n",
       "    .dataframe tbody tr th {\n",
       "        vertical-align: top;\n",
       "    }\n",
       "\n",
       "    .dataframe thead th {\n",
       "        text-align: right;\n",
       "    }\n",
       "</style>\n",
       "<table border=\"1\" class=\"dataframe\">\n",
       "  <thead>\n",
       "    <tr style=\"text-align: right;\">\n",
       "      <th></th>\n",
       "      <th>prediction</th>\n",
       "    </tr>\n",
       "  </thead>\n",
       "  <tbody>\n",
       "    <tr>\n",
       "      <th>0</th>\n",
       "      <td>1</td>\n",
       "    </tr>\n",
       "    <tr>\n",
       "      <th>1</th>\n",
       "      <td>1</td>\n",
       "    </tr>\n",
       "    <tr>\n",
       "      <th>2</th>\n",
       "      <td>1</td>\n",
       "    </tr>\n",
       "    <tr>\n",
       "      <th>3</th>\n",
       "      <td>2</td>\n",
       "    </tr>\n",
       "    <tr>\n",
       "      <th>4</th>\n",
       "      <td>1</td>\n",
       "    </tr>\n",
       "    <tr>\n",
       "      <th>...</th>\n",
       "      <td>...</td>\n",
       "    </tr>\n",
       "    <tr>\n",
       "      <th>54315</th>\n",
       "      <td>1</td>\n",
       "    </tr>\n",
       "    <tr>\n",
       "      <th>54316</th>\n",
       "      <td>1</td>\n",
       "    </tr>\n",
       "    <tr>\n",
       "      <th>54317</th>\n",
       "      <td>4</td>\n",
       "    </tr>\n",
       "    <tr>\n",
       "      <th>54318</th>\n",
       "      <td>1</td>\n",
       "    </tr>\n",
       "    <tr>\n",
       "      <th>54319</th>\n",
       "      <td>1</td>\n",
       "    </tr>\n",
       "  </tbody>\n",
       "</table>\n",
       "<p>54320 rows × 1 columns</p>\n",
       "</div>"
      ],
      "text/plain": [
       "       prediction\n",
       "0               1\n",
       "1               1\n",
       "2               1\n",
       "3               2\n",
       "4               1\n",
       "...           ...\n",
       "54315           1\n",
       "54316           1\n",
       "54317           4\n",
       "54318           1\n",
       "54319           1\n",
       "\n",
       "[54320 rows x 1 columns]"
      ]
     },
     "execution_count": 11,
     "metadata": {},
     "output_type": "execute_result"
    }
   ],
   "source": [
    "final_preds = pred_xgb.argmax(axis=1)+1\n",
    "pred_csv = pd.DataFrame(final_preds.reshape(-1), columns=['prediction'] )\n",
    "pred_csv"
   ]
  },
  {
   "cell_type": "code",
   "execution_count": 12,
   "metadata": {
    "execution": {
     "iopub.execute_input": "2020-12-11T00:25:58.468921Z",
     "iopub.status.busy": "2020-12-11T00:25:58.468294Z",
     "iopub.status.idle": "2020-12-11T00:25:58.477515Z",
     "shell.execute_reply": "2020-12-11T00:25:58.476880Z"
    },
    "papermill": {
     "duration": 0.034336,
     "end_time": "2020-12-11T00:25:58.477613",
     "exception": false,
     "start_time": "2020-12-11T00:25:58.443277",
     "status": "completed"
    },
    "tags": []
   },
   "outputs": [
    {
     "data": {
      "text/plain": [
       "prediction\n",
       "1             33637\n",
       "2              9564\n",
       "3              7503\n",
       "4              3616\n",
       "dtype: int64"
      ]
     },
     "execution_count": 12,
     "metadata": {},
     "output_type": "execute_result"
    }
   ],
   "source": [
    "pred_csv.value_counts()"
   ]
  },
  {
   "cell_type": "code",
   "execution_count": 13,
   "metadata": {
    "execution": {
     "iopub.execute_input": "2020-12-11T00:25:58.525705Z",
     "iopub.status.busy": "2020-12-11T00:25:58.525042Z",
     "iopub.status.idle": "2020-12-11T00:25:58.927160Z",
     "shell.execute_reply": "2020-12-11T00:25:58.927638Z"
    },
    "papermill": {
     "duration": 0.428759,
     "end_time": "2020-12-11T00:25:58.927778",
     "exception": false,
     "start_time": "2020-12-11T00:25:58.499019",
     "status": "completed"
    },
    "tags": []
   },
   "outputs": [],
   "source": [
    "pred_csv.to_csv('sub_rnd2.csv', index=False)"
   ]
  },
  {
   "cell_type": "code",
   "execution_count": 14,
   "metadata": {
    "execution": {
     "iopub.execute_input": "2020-12-11T00:25:58.977498Z",
     "iopub.status.busy": "2020-12-11T00:25:58.976667Z",
     "iopub.status.idle": "2020-12-11T00:25:58.993373Z",
     "shell.execute_reply": "2020-12-11T00:25:58.994011Z"
    },
    "papermill": {
     "duration": 0.044119,
     "end_time": "2020-12-11T00:25:58.994215",
     "exception": false,
     "start_time": "2020-12-11T00:25:58.950096",
     "status": "completed"
    },
    "tags": []
   },
   "outputs": [],
   "source": [
    "np.save('oof_rnd.npy', oof_xgb)\n",
    "np.save('pred_rnd.npy', pred_xgb)"
   ]
  },
  {
   "cell_type": "code",
   "execution_count": null,
   "metadata": {
    "papermill": {
     "duration": 0.03258,
     "end_time": "2020-12-11T00:25:59.060262",
     "exception": false,
     "start_time": "2020-12-11T00:25:59.027682",
     "status": "completed"
    },
    "tags": []
   },
   "outputs": [],
   "source": []
  }
 ],
 "metadata": {
  "kernelspec": {
   "display_name": "Python 3",
   "language": "python",
   "name": "python3"
  },
  "language_info": {
   "codemirror_mode": {
    "name": "ipython",
    "version": 3
   },
   "file_extension": ".py",
   "mimetype": "text/x-python",
   "name": "python",
   "nbconvert_exporter": "python",
   "pygments_lexer": "ipython3",
   "version": "3.7.3"
  },
  "papermill": {
   "duration": 2791.607108,
   "end_time": "2020-12-11T00:25:59.200981",
   "environment_variables": {},
   "exception": null,
   "input_path": "__notebook__.ipynb",
   "output_path": "__notebook__.ipynb",
   "parameters": {},
   "start_time": "2020-12-10T23:39:27.593873",
   "version": "2.1.0"
  }
 },
 "nbformat": 4,
 "nbformat_minor": 4
}
