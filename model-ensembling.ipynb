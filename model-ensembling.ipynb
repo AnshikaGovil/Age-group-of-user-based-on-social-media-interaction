{
 "cells": [
  {
   "cell_type": "code",
   "execution_count": 1,
   "metadata": {},
   "outputs": [],
   "source": [
    "import datetime\n",
    "import pandas as pd\n",
    "from time import time\n",
    "# from autograd import grad\n",
    "# import autograd.numpy as np\n",
    "import numpy as np\n",
    "from numba import njit\n",
    "from scipy.optimize import minimize, fsolve\n",
    "import os"
   ]
  },
  {
   "cell_type": "code",
   "execution_count": 2,
   "metadata": {},
   "outputs": [
    {
     "data": {
      "text/html": [
       "<style type='text/css'>\n",
       ".datatable table.frame { margin-bottom: 0; }\n",
       ".datatable table.frame thead { border-bottom: none; }\n",
       ".datatable table.frame tr.coltypes td {  color: #FFFFFF;  line-height: 6px;  padding: 0 0.5em;}\n",
       ".datatable .bool    { background: #DDDD99; }\n",
       ".datatable .object  { background: #565656; }\n",
       ".datatable .int     { background: #5D9E5D; }\n",
       ".datatable .float   { background: #4040CC; }\n",
       ".datatable .str     { background: #CC4040; }\n",
       ".datatable .row_index {  background: var(--jp-border-color3);  border-right: 1px solid var(--jp-border-color0);  color: var(--jp-ui-font-color3);  font-size: 9px;}\n",
       ".datatable .frame tr.coltypes .row_index {  background: var(--jp-border-color0);}\n",
       ".datatable th:nth-child(2) { padding-left: 12px; }\n",
       ".datatable .hellipsis {  color: var(--jp-cell-editor-border-color);}\n",
       ".datatable .vellipsis {  background: var(--jp-layout-color0);  color: var(--jp-cell-editor-border-color);}\n",
       ".datatable .na {  color: var(--jp-cell-editor-border-color);  font-size: 80%;}\n",
       ".datatable .footer { font-size: 9px; }\n",
       ".datatable .frame_dimensions {  background: var(--jp-border-color3);  border-top: 1px solid var(--jp-border-color0);  color: var(--jp-ui-font-color3);  display: inline-block;  opacity: 0.6;  padding: 1px 10px 1px 5px;}\n",
       ".datatable .frame thead tr.colnames {  background-image: url('data:image/png;base64,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');  background-repeat: repeat-x;  background-size: 14px;  height: 28px;}\n",
       "</style>\n"
      ],
      "text/plain": [
       "<IPython.core.display.HTML object>"
      ]
     },
     "metadata": {},
     "output_type": "display_data"
    }
   ],
   "source": [
    "import pandas as pd\n",
    "import numpy as np\n",
    "import xgboost as xgb\n",
    "from sklearn.model_selection import StratifiedKFold\n",
    "from sklearn.metrics import f1_score, accuracy_score"
   ]
  },
  {
   "cell_type": "code",
   "execution_count": 3,
   "metadata": {},
   "outputs": [],
   "source": [
    "train = pd.read_csv('/kaggle/input/Cascade_cup/train_age_dataset.csv')\n",
    "test = pd.read_csv('/kaggle/input/Cascade_cup/test_age_dataset.csv')\n",
    "sample = pd.read_csv('/kaggle/input/Cascade_cup/sample_submission.csv')\n",
    "\n",
    "train = pd.get_dummies(train, columns=['tier','gender'])\n",
    "test = pd.get_dummies(test, columns=['tier','gender'])\n",
    "\n",
    "# REMEMBER TO ADD 1 IN THE END\n",
    "\n",
    "train['age_group'] = train['age_group']-1\n",
    "\n",
    "feature_cols = [col for col in train.columns.tolist() if col not in ['age_group']]\n",
    "target_cols = ['age_group']"
   ]
  },
  {
   "cell_type": "code",
   "execution_count": 4,
   "metadata": {},
   "outputs": [],
   "source": [
    "# Combine oof\n",
    "oof_paths = ['../input/double-xgboost/oof_xgb.npy',\n",
    "             '../input/xgboost-pca/oof_xgb.npy',\n",
    "             '../input/xgboost-withunnamed-deb/oof_xgb_8066_8100.npy',\n",
    "             '../input/xgboost-withunnamed-nonzerotraining/oof_xgb.npy',\n",
    "             '../input/double-xgboost-manual-tuning/oof_xgb.npy',\n",
    "             '../input/debrf/oof_rnd.npy',\n",
    "             '../input/xgboost-withunnamed/oof_xgb.npy',\n",
    "             '../input/catboost-tuned/oof_cat.npy',\n",
    "             '../input/lightgbm/oof_lgb.npy', \n",
    "             '../input/deb-xgb/oof_xgb_75143.npy',\n",
    "             '../input/randomforest/oof_rf.npy']\n",
    "\n",
    "pred_paths = ['../input/double-xgboost/pred_xgb.npy',\n",
    "              '../input/xgboost-pca/pred_xgb.npy',\n",
    "              '../input/xgboost-withunnamed-deb/pred_xgb_8066_8100.npy',\n",
    "              '../input/xgboost-withunnamed-nonzerotraining/pred_xgb.npy',\n",
    "              '../input/double-xgboost-manual-tuning/pred_xgb.npy',\n",
    "              '../input/debrf/pred_rnd.npy',\n",
    "              '../input/xgboost-withunnamed/pred_xgb.npy',\n",
    "              '../input/catboost-tuned/pred_cat.npy', \n",
    "              '../input/lightgbm/pred_lgb.npy', \n",
    "              '../input/deb-xgb/pred_xgb_75143.npy',\n",
    "              '../input/randomforest/pred_rf.npy']\n",
    "\n",
    "\n",
    "oof_comp = np.zeros((len(oof_paths), len(train[target_cols]), 4))\n",
    "pred_comp = np.zeros((len(pred_paths), len(test), 4))\n",
    "\n",
    "for i in range(len(oof_paths)):\n",
    "    oof_comp[i, :, :] = np.load(oof_paths[i])\n",
    "    \n",
    "for i in range(len(pred_paths)):\n",
    "    pred_comp[i, :, :] = np.load(pred_paths[i])"
   ]
  },
  {
   "cell_type": "code",
   "execution_count": 5,
   "metadata": {},
   "outputs": [],
   "source": [
    "import tensorflow as tf\n",
    "y_true = (train[target_cols].values).reshape(-1,1)\n",
    "y_true_hot = np.array(tf.one_hot(y_true, depth=4)).reshape(-1,4)\n",
    "\n",
    "\n",
    "def f1score(oof):\n",
    "    predictions = oof.argmax(axis=1)\n",
    "    return f1_score(train[target_cols], predictions, average='weighted')\n",
    "\n",
    "# return negative of f1 to minimize\n",
    "def func_numpy_metric(weights):\n",
    "    oof_blend = np.tensordot(weights, oof_comp, axes=(0,0))\n",
    "    return -f1score(oof_blend)\n",
    "\n"
   ]
  },
  {
   "cell_type": "code",
   "execution_count": 6,
   "metadata": {},
   "outputs": [
    {
     "name": "stdout",
     "output_type": "stream",
     "text": [
      "../input/double-xgboost/oof_xgb.npy CV:\t\t\t 0.7899487480513191\n",
      "../input/xgboost-pca/oof_xgb.npy CV:\t\t\t 0.7890089004070117\n",
      "../input/xgboost-withunnamed-deb/oof_xgb_8066_8100.npy CV:\t\t\t 0.8066411146358526\n",
      "../input/xgboost-withunnamed-nonzerotraining/oof_xgb.npy CV:\t\t\t 0.8063223170728732\n",
      "../input/double-xgboost-manual-tuning/oof_xgb.npy CV:\t\t\t 0.74824771829688\n",
      "../input/debrf/oof_rnd.npy CV:\t\t\t 0.7661930512519203\n",
      "../input/xgboost-withunnamed/oof_xgb.npy CV:\t\t\t 0.8063599626965134\n",
      "../input/catboost-tuned/oof_cat.npy CV:\t\t\t 0.7651350154826301\n",
      "../input/lightgbm/oof_lgb.npy CV:\t\t\t 0.7697550527301407\n",
      "../input/deb-xgb/oof_xgb_75143.npy CV:\t\t\t 0.7514380843312148\n",
      "../input/randomforest/oof_rf.npy CV:\t\t\t 0.7630414696367479\n",
      "--------------------------------------------------\n",
      "CPU times: user 2.29 s, sys: 0 ns, total: 2.29 s\n",
      "Wall time: 2.27 s\n"
     ]
    }
   ],
   "source": [
    "%%time\n",
    "\n",
    "f1_scores = {}\n",
    "\n",
    "for i in range(len(oof_paths)):\n",
    "    score_oof = f1score(oof_comp[i, ...])\n",
    "    f1_scores[oof_paths[i]] = score_oof\n",
    "    print(f'{oof_paths[i]} CV:\\t\\t\\t',score_oof)\n",
    "print('-' * 50)"
   ]
  },
  {
   "cell_type": "code",
   "execution_count": 7,
   "metadata": {},
   "outputs": [
    {
     "name": "stdout",
     "output_type": "stream",
     "text": [
      "Inital Blend OOF: -0.8031900561457075\n",
      "differential_evolution step 1: f(x)= -0.809266\n",
      "differential_evolution step 2: f(x)= -0.809841\n",
      "differential_evolution step 3: f(x)= -0.810563\n",
      "differential_evolution step 4: f(x)= -0.810563\n",
      "differential_evolution step 5: f(x)= -0.810715\n",
      "differential_evolution step 6: f(x)= -0.810715\n",
      "differential_evolution step 7: f(x)= -0.810866\n",
      "[04:54] Optimised Blend OOF: -0.8108656269005935\n",
      "Optimised Weights: [0.22187325 0.18063738 0.97419533 0.75991482 0.02599876 0.10349734\n",
      " 0.880284   0.06250516 0.05635466 0.50080978 0.12888972]\n"
     ]
    }
   ],
   "source": [
    "import scipy\n",
    "\n",
    "tol = 1e-3\n",
    "bnds = [(0, 1) for _ in range(oof_comp.shape[0])]\n",
    "init_guess = [1 / oof_comp.shape[0]] * oof_comp.shape[0]\n",
    "print('Inital Blend OOF:', func_numpy_metric(init_guess))\n",
    "start_time = time()\n",
    "\n",
    "res_scipy = scipy.optimize.differential_evolution(func = func_numpy_metric,\n",
    "                                                 bounds=bnds,\n",
    "                                                 disp=True, \n",
    "                                                 polish=True,\n",
    "                                                 tol=tol)\n",
    "\n",
    "print(f'[{str(datetime.timedelta(seconds = time() - start_time))[2:7]}] Optimised Blend OOF:', res_scipy.fun)\n",
    "print('Optimised Weights:', res_scipy.x)\n",
    "\n",
    "weights = res_scipy.x"
   ]
  },
  {
   "cell_type": "markdown",
   "metadata": {},
   "source": [
    "## CV HISTORY - \n",
    "\n",
    "OOF - 75.59    \n",
    "LB - 75.27\n",
    "\n",
    "######################\n",
    "\n",
    "OOF - 0.75613   \n",
    "LB - 75.308\n",
    "\n",
    "######################\n",
    "\n",
    "OOF - 0.7571 \\\n",
    "LB - 0.7541\n",
    "\n",
    "####################\n",
    "\n",
    "OOF - 0.7579 \\\n",
    "LB - 0.7549"
   ]
  },
  {
   "cell_type": "code",
   "execution_count": 8,
   "metadata": {},
   "outputs": [],
   "source": [
    "def blend_preds(weights):\n",
    "    for i in range(pred_comp.shape[0]):\n",
    "        pred_blend = np.tensordot(weights, pred_comp, axes=(0,0))\n",
    "        \n",
    "    return pred_blend\n",
    "\n",
    "pred_blend = blend_preds(weights)"
   ]
  },
  {
   "cell_type": "code",
   "execution_count": 9,
   "metadata": {},
   "outputs": [],
   "source": [
    "final_preds = pred_blend.argmax(axis=1)+1"
   ]
  },
  {
   "cell_type": "code",
   "execution_count": 10,
   "metadata": {},
   "outputs": [
    {
     "data": {
      "text/html": [
       "<div>\n",
       "<style scoped>\n",
       "    .dataframe tbody tr th:only-of-type {\n",
       "        vertical-align: middle;\n",
       "    }\n",
       "\n",
       "    .dataframe tbody tr th {\n",
       "        vertical-align: top;\n",
       "    }\n",
       "\n",
       "    .dataframe thead th {\n",
       "        text-align: right;\n",
       "    }\n",
       "</style>\n",
       "<table border=\"1\" class=\"dataframe\">\n",
       "  <thead>\n",
       "    <tr style=\"text-align: right;\">\n",
       "      <th></th>\n",
       "      <th>prediction</th>\n",
       "    </tr>\n",
       "  </thead>\n",
       "  <tbody>\n",
       "    <tr>\n",
       "      <th>0</th>\n",
       "      <td>1</td>\n",
       "    </tr>\n",
       "    <tr>\n",
       "      <th>1</th>\n",
       "      <td>1</td>\n",
       "    </tr>\n",
       "    <tr>\n",
       "      <th>2</th>\n",
       "      <td>1</td>\n",
       "    </tr>\n",
       "    <tr>\n",
       "      <th>3</th>\n",
       "      <td>2</td>\n",
       "    </tr>\n",
       "    <tr>\n",
       "      <th>4</th>\n",
       "      <td>1</td>\n",
       "    </tr>\n",
       "    <tr>\n",
       "      <th>...</th>\n",
       "      <td>...</td>\n",
       "    </tr>\n",
       "    <tr>\n",
       "      <th>54315</th>\n",
       "      <td>1</td>\n",
       "    </tr>\n",
       "    <tr>\n",
       "      <th>54316</th>\n",
       "      <td>1</td>\n",
       "    </tr>\n",
       "    <tr>\n",
       "      <th>54317</th>\n",
       "      <td>4</td>\n",
       "    </tr>\n",
       "    <tr>\n",
       "      <th>54318</th>\n",
       "      <td>1</td>\n",
       "    </tr>\n",
       "    <tr>\n",
       "      <th>54319</th>\n",
       "      <td>1</td>\n",
       "    </tr>\n",
       "  </tbody>\n",
       "</table>\n",
       "<p>54320 rows × 1 columns</p>\n",
       "</div>"
      ],
      "text/plain": [
       "       prediction\n",
       "0               1\n",
       "1               1\n",
       "2               1\n",
       "3               2\n",
       "4               1\n",
       "...           ...\n",
       "54315           1\n",
       "54316           1\n",
       "54317           4\n",
       "54318           1\n",
       "54319           1\n",
       "\n",
       "[54320 rows x 1 columns]"
      ]
     },
     "execution_count": 10,
     "metadata": {},
     "output_type": "execute_result"
    }
   ],
   "source": [
    "pred_csv = pd.DataFrame(final_preds.reshape(-1), columns=['prediction'] )\n",
    "pred_csv"
   ]
  },
  {
   "cell_type": "code",
   "execution_count": 11,
   "metadata": {},
   "outputs": [
    {
     "data": {
      "text/plain": [
       "prediction\n",
       "1             33942\n",
       "2              8597\n",
       "3              8245\n",
       "4              3536\n",
       "dtype: int64"
      ]
     },
     "execution_count": 11,
     "metadata": {},
     "output_type": "execute_result"
    }
   ],
   "source": [
    "pred_csv.value_counts()"
   ]
  },
  {
   "cell_type": "code",
   "execution_count": 12,
   "metadata": {},
   "outputs": [],
   "source": [
    "pred_csv.to_csv('pcawithdeb.csv', index=False)"
   ]
  },
  {
   "cell_type": "code",
   "execution_count": null,
   "metadata": {},
   "outputs": [],
   "source": []
  }
 ],
 "metadata": {
  "kernelspec": {
   "display_name": "Python 3",
   "language": "python",
   "name": "python3"
  },
  "language_info": {
   "codemirror_mode": {
    "name": "ipython",
    "version": 3
   },
   "file_extension": ".py",
   "mimetype": "text/x-python",
   "name": "python",
   "nbconvert_exporter": "python",
   "pygments_lexer": "ipython3",
   "version": "3.7.3"
  }
 },
 "nbformat": 4,
 "nbformat_minor": 4
}
