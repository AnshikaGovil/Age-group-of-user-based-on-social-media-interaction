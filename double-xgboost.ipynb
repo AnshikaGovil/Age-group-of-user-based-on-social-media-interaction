{
 "cells": [
  {
   "cell_type": "code",
   "execution_count": 1,
   "metadata": {
    "_cell_guid": "79c7e3d0-c299-4dcb-8224-4455121ee9b0",
    "_uuid": "d629ff2d2480ee46fbb7e2d37f6b5fab8052498a",
    "execution": {
     "iopub.execute_input": "2020-12-08T18:22:57.570645Z",
     "iopub.status.busy": "2020-12-08T18:22:57.569864Z",
     "iopub.status.idle": "2020-12-08T18:23:03.536843Z",
     "shell.execute_reply": "2020-12-08T18:23:03.536110Z"
    },
    "papermill": {
     "duration": 5.985164,
     "end_time": "2020-12-08T18:23:03.537018",
     "exception": false,
     "start_time": "2020-12-08T18:22:57.551854",
     "status": "completed"
    },
    "tags": []
   },
   "outputs": [],
   "source": [
    "import pandas as pd\n",
    "import time\n",
    "import numpy as np\n",
    "import xgboost as xgb\n",
    "from sklearn.model_selection import StratifiedKFold\n",
    "from sklearn.metrics import f1_score, accuracy_score"
   ]
  },
  {
   "cell_type": "code",
   "execution_count": 2,
   "metadata": {
    "execution": {
     "iopub.execute_input": "2020-12-08T18:23:03.586343Z",
     "iopub.status.busy": "2020-12-08T18:23:03.585619Z",
     "iopub.status.idle": "2020-12-08T18:23:06.062293Z",
     "shell.execute_reply": "2020-12-08T18:23:06.061197Z"
    },
    "papermill": {
     "duration": 2.508817,
     "end_time": "2020-12-08T18:23:06.062423",
     "exception": false,
     "start_time": "2020-12-08T18:23:03.553606",
     "status": "completed"
    },
    "tags": []
   },
   "outputs": [],
   "source": [
    "train = pd.read_csv('/kaggle/input/Cascade_cup/train_age_dataset.csv')\n",
    "test = pd.read_csv('/kaggle/input/Cascade_cup/test_age_dataset.csv')\n",
    "sample = pd.read_csv('/kaggle/input/Cascade_cup/sample_submission.csv')"
   ]
  },
  {
   "cell_type": "code",
   "execution_count": 3,
   "metadata": {
    "execution": {
     "iopub.execute_input": "2020-12-08T18:23:06.118095Z",
     "iopub.status.busy": "2020-12-08T18:23:06.117156Z",
     "iopub.status.idle": "2020-12-08T18:23:06.273515Z",
     "shell.execute_reply": "2020-12-08T18:23:06.272833Z"
    },
    "papermill": {
     "duration": 0.198843,
     "end_time": "2020-12-08T18:23:06.273633",
     "exception": false,
     "start_time": "2020-12-08T18:23:06.074790",
     "status": "completed"
    },
    "tags": []
   },
   "outputs": [],
   "source": [
    "train = pd.get_dummies(train, columns=['tier','gender'])\n",
    "test = pd.get_dummies(test, columns=['tier','gender'])\n",
    "\n",
    "# REMEMBER TO ADD 1 IN THE END\n",
    "\n",
    "train['age_group'] = train['age_group']-1"
   ]
  },
  {
   "cell_type": "code",
   "execution_count": 4,
   "metadata": {
    "execution": {
     "iopub.execute_input": "2020-12-08T18:23:06.302689Z",
     "iopub.status.busy": "2020-12-08T18:23:06.301650Z",
     "iopub.status.idle": "2020-12-08T18:23:06.308174Z",
     "shell.execute_reply": "2020-12-08T18:23:06.307603Z"
    },
    "papermill": {
     "duration": 0.02203,
     "end_time": "2020-12-08T18:23:06.308274",
     "exception": false,
     "start_time": "2020-12-08T18:23:06.286244",
     "status": "completed"
    },
    "tags": []
   },
   "outputs": [],
   "source": [
    "feature_cols = [col for col in train.columns.tolist() if col not in ['age_group','gender_2']]\n",
    "target_cols = ['age_group']"
   ]
  },
  {
   "cell_type": "code",
   "execution_count": 5,
   "metadata": {
    "execution": {
     "iopub.execute_input": "2020-12-08T18:23:06.341004Z",
     "iopub.status.busy": "2020-12-08T18:23:06.339764Z",
     "iopub.status.idle": "2020-12-08T18:23:06.635880Z",
     "shell.execute_reply": "2020-12-08T18:23:06.635271Z"
    },
    "papermill": {
     "duration": 0.315324,
     "end_time": "2020-12-08T18:23:06.636003",
     "exception": false,
     "start_time": "2020-12-08T18:23:06.320679",
     "status": "completed"
    },
    "tags": []
   },
   "outputs": [],
   "source": [
    "# KFOLD\n",
    "skf = StratifiedKFold(n_splits=5, random_state=0, shuffle=True)\n",
    "\n",
    "for i, (trn, val) in enumerate(skf.split(train[target_cols], train[target_cols])):\n",
    "    train.loc[val, 'kfold'] = i\n",
    "train['kfold'] = train['kfold'].astype(int)"
   ]
  },
  {
   "cell_type": "code",
   "execution_count": 6,
   "metadata": {
    "execution": {
     "iopub.execute_input": "2020-12-08T18:23:06.673473Z",
     "iopub.status.busy": "2020-12-08T18:23:06.671722Z",
     "iopub.status.idle": "2020-12-08T18:23:06.674243Z",
     "shell.execute_reply": "2020-12-08T18:23:06.674746Z"
    },
    "papermill": {
     "duration": 0.026589,
     "end_time": "2020-12-08T18:23:06.674856",
     "exception": false,
     "start_time": "2020-12-08T18:23:06.648267",
     "status": "completed"
    },
    "tags": []
   },
   "outputs": [],
   "source": [
    "# A MODEL WITH 2 XGB CLASSIFIERS\n",
    "class DoubleXGB():\n",
    "    def __init__(self):\n",
    "        self.mod1 = xgb.XGBClassifier(tree_method='gpu_hist')\n",
    "        self.mod2 = xgb.XGBClassifier(tree_method='gpu_hist')\n",
    "        \n",
    "    def fit(self, x, y):\n",
    "        self.mod1.fit(x, y)\n",
    "        self.mod2.fit(x, y)\n",
    "        \n",
    "    def predict_proba(self, x):\n",
    "        pred1 = self.mod1.predict_proba(x)\n",
    "        pred2 = self.mod2.predict_proba(x)\n",
    "        \n",
    "        return (pred1+pred2)/2\n",
    "    \n",
    "    def predict(self, x):\n",
    "        pred1 = self.mod1.predict_proba(x)\n",
    "        pred2 = self.mod2.predict_proba(x)\n",
    "        \n",
    "        pred = (pred1+pred2)/2\n",
    "        \n",
    "        pred_classes = np.argmax(pred, axis=1)\n",
    "        return pred_classes\n",
    "        "
   ]
  },
  {
   "cell_type": "code",
   "execution_count": 7,
   "metadata": {
    "execution": {
     "iopub.execute_input": "2020-12-08T18:23:06.714097Z",
     "iopub.status.busy": "2020-12-08T18:23:06.711986Z",
     "iopub.status.idle": "2020-12-08T18:23:06.716821Z",
     "shell.execute_reply": "2020-12-08T18:23:06.716276Z"
    },
    "papermill": {
     "duration": 0.030022,
     "end_time": "2020-12-08T18:23:06.716930",
     "exception": false,
     "start_time": "2020-12-08T18:23:06.686908",
     "status": "completed"
    },
    "tags": []
   },
   "outputs": [],
   "source": [
    "def run_training():\n",
    "    oof = np.zeros((train.shape[0], 4))\n",
    "    pred = np.zeros((test.shape[0], 4))\n",
    "    \n",
    "    for fold in range(5):\n",
    "        \n",
    "        print(f\"\\nStarting FOLD: {fold}\")\n",
    "        start = time.time()\n",
    "        \n",
    "\n",
    "        trn_idx = train['kfold'] != fold\n",
    "        val_idx = train['kfold'] == fold\n",
    "        trn = train.loc[trn_idx, :]\n",
    "        val = train.loc[val_idx, :]\n",
    "\n",
    "        xtr, ytr = trn[feature_cols].values, trn[target_cols].values\n",
    "        xval, yval = val[feature_cols].values, val[target_cols].values\n",
    "        xtest = test[feature_cols].values\n",
    "\n",
    "        model = xgb.XGBClassifier()\n",
    "        print(\"Fittting model ...\")\n",
    "        model.fit(xtr, ytr.reshape(-1,))\n",
    "        \n",
    "        print(\"Calculating training preds ...\")\n",
    "        train_preds = model.predict(xtr)\n",
    "        print(\"Calculating validation preds ...\")\n",
    "        val_preds = model.predict(xval)\n",
    "        print(\"Training Accuracy Score - \", accuracy_score(ytr, train_preds ))\n",
    "        print(\"Training F1 Score - \", f1_score(ytr, train_preds, average='weighted'))\n",
    "        \n",
    "        print(\"Validation Accuracy Score - \", accuracy_score(yval, val_preds))\n",
    "        print(\"Validation F1 Score - \", f1_score(yval, val_preds, average='weighted'))\n",
    "        \n",
    "        oof[val_idx, :] += model.predict_proba(xval)\n",
    "        \n",
    "        # Test preds\n",
    "        pred += model.predict_proba(xtest)/5\n",
    "        \n",
    "        print(f\"FOLD {fold} completed in {time.time()-start} seconds\")\n",
    "        \n",
    "    return oof, pred"
   ]
  },
  {
   "cell_type": "code",
   "execution_count": 8,
   "metadata": {
    "execution": {
     "iopub.execute_input": "2020-12-08T18:23:06.747583Z",
     "iopub.status.busy": "2020-12-08T18:23:06.745988Z",
     "iopub.status.idle": "2020-12-08T18:48:20.543366Z",
     "shell.execute_reply": "2020-12-08T18:48:20.545605Z"
    },
    "papermill": {
     "duration": 1513.816481,
     "end_time": "2020-12-08T18:48:20.545834",
     "exception": false,
     "start_time": "2020-12-08T18:23:06.729353",
     "status": "completed"
    },
    "tags": []
   },
   "outputs": [
    {
     "name": "stdout",
     "output_type": "stream",
     "text": [
      "\n",
      "Starting FOLD: 0\n",
      "Fittting model ...\n",
      "Calculating training preds ...\n",
      "Calculating validation preds ...\n",
      "Training Accuracy Score -  0.8241119301663764\n",
      "Training F1 Score -  0.818573935066147\n",
      "Validation Accuracy Score -  0.7963712976599574\n",
      "Validation F1 Score -  0.7900617637782085\n",
      "FOLD 0 completed in 311.6262857913971 seconds\n",
      "\n",
      "Starting FOLD: 1\n",
      "Fittting model ...\n",
      "Calculating training preds ...\n",
      "Calculating validation preds ...\n",
      "Training Accuracy Score -  0.8215550458832884\n",
      "Training F1 Score -  0.8159966763113596\n",
      "Validation Accuracy Score -  0.7957678775977745\n",
      "Validation F1 Score -  0.7897380371074988\n",
      "FOLD 1 completed in 306.42846727371216 seconds\n",
      "\n",
      "Starting FOLD: 2\n",
      "Fittting model ...\n",
      "Calculating training preds ...\n",
      "Calculating validation preds ...\n",
      "Training Accuracy Score -  0.822672857719981\n",
      "Training F1 Score -  0.817189915415303\n",
      "Validation Accuracy Score -  0.7960521605727435\n",
      "Validation F1 Score -  0.7896293727218838\n",
      "FOLD 2 completed in 299.2382860183716 seconds\n",
      "\n",
      "Starting FOLD: 3\n",
      "Fittting model ...\n",
      "Calculating training preds ...\n",
      "Calculating validation preds ...\n",
      "Training Accuracy Score -  0.8223225654688546\n",
      "Training F1 Score -  0.8168206102882677\n",
      "Validation Accuracy Score -  0.7962362567118384\n",
      "Validation F1 Score -  0.7898154681846881\n",
      "FOLD 3 completed in 297.75127148628235 seconds\n",
      "\n",
      "Starting FOLD: 4\n",
      "Fittting model ...\n",
      "Calculating training preds ...\n",
      "Calculating validation preds ...\n",
      "Training Accuracy Score -  0.8250788796784471\n",
      "Training F1 Score -  0.8193677069081614\n",
      "Validation Accuracy Score -  0.7966351316798773\n",
      "Validation F1 Score -  0.7904940364019896\n",
      "FOLD 4 completed in 298.7370400428772 seconds\n"
     ]
    }
   ],
   "source": [
    "oof_xgb, pred_xgb = run_training()"
   ]
  },
  {
   "cell_type": "code",
   "execution_count": 9,
   "metadata": {
    "execution": {
     "iopub.execute_input": "2020-12-08T18:48:20.639358Z",
     "iopub.status.busy": "2020-12-08T18:48:20.638522Z",
     "iopub.status.idle": "2020-12-08T18:48:20.641049Z",
     "shell.execute_reply": "2020-12-08T18:48:20.640187Z"
    },
    "papermill": {
     "duration": 0.044682,
     "end_time": "2020-12-08T18:48:20.641197",
     "exception": false,
     "start_time": "2020-12-08T18:48:20.596515",
     "status": "completed"
    },
    "tags": []
   },
   "outputs": [],
   "source": [
    "def find_oof_score(oof):\n",
    "    predictions = oof.argmax(axis=1)\n",
    "    print(\"OOF Accuracy Score - \", accuracy_score(train[target_cols], predictions))\n",
    "    print(\"OOF F1 Score - \", f1_score(train[target_cols], predictions, average='weighted'))"
   ]
  },
  {
   "cell_type": "code",
   "execution_count": 10,
   "metadata": {
    "execution": {
     "iopub.execute_input": "2020-12-08T18:48:20.737749Z",
     "iopub.status.busy": "2020-12-08T18:48:20.736917Z",
     "iopub.status.idle": "2020-12-08T18:48:21.012213Z",
     "shell.execute_reply": "2020-12-08T18:48:21.013418Z"
    },
    "papermill": {
     "duration": 0.324366,
     "end_time": "2020-12-08T18:48:21.013692",
     "exception": false,
     "start_time": "2020-12-08T18:48:20.689326",
     "status": "completed"
    },
    "tags": []
   },
   "outputs": [
    {
     "name": "stdout",
     "output_type": "stream",
     "text": [
      "OOF Accuracy Score -  0.7962125442595991\n",
      "OOF F1 Score -  0.7899487480513191\n"
     ]
    }
   ],
   "source": [
    "find_oof_score(oof_xgb)"
   ]
  },
  {
   "cell_type": "code",
   "execution_count": 11,
   "metadata": {
    "execution": {
     "iopub.execute_input": "2020-12-08T18:48:21.078838Z",
     "iopub.status.busy": "2020-12-08T18:48:21.077874Z",
     "iopub.status.idle": "2020-12-08T18:48:21.083094Z",
     "shell.execute_reply": "2020-12-08T18:48:21.084336Z"
    },
    "papermill": {
     "duration": 0.04203,
     "end_time": "2020-12-08T18:48:21.084503",
     "exception": false,
     "start_time": "2020-12-08T18:48:21.042473",
     "status": "completed"
    },
    "tags": []
   },
   "outputs": [
    {
     "data": {
      "text/plain": [
       "(54320, 4)"
      ]
     },
     "execution_count": 11,
     "metadata": {},
     "output_type": "execute_result"
    }
   ],
   "source": [
    "pred_xgb.shape"
   ]
  },
  {
   "cell_type": "code",
   "execution_count": 12,
   "metadata": {
    "execution": {
     "iopub.execute_input": "2020-12-08T18:48:21.153489Z",
     "iopub.status.busy": "2020-12-08T18:48:21.152619Z",
     "iopub.status.idle": "2020-12-08T18:48:21.171846Z",
     "shell.execute_reply": "2020-12-08T18:48:21.171285Z"
    },
    "papermill": {
     "duration": 0.059501,
     "end_time": "2020-12-08T18:48:21.171962",
     "exception": false,
     "start_time": "2020-12-08T18:48:21.112461",
     "status": "completed"
    },
    "tags": []
   },
   "outputs": [
    {
     "data": {
      "text/html": [
       "<div>\n",
       "<style scoped>\n",
       "    .dataframe tbody tr th:only-of-type {\n",
       "        vertical-align: middle;\n",
       "    }\n",
       "\n",
       "    .dataframe tbody tr th {\n",
       "        vertical-align: top;\n",
       "    }\n",
       "\n",
       "    .dataframe thead th {\n",
       "        text-align: right;\n",
       "    }\n",
       "</style>\n",
       "<table border=\"1\" class=\"dataframe\">\n",
       "  <thead>\n",
       "    <tr style=\"text-align: right;\">\n",
       "      <th></th>\n",
       "      <th>prediction</th>\n",
       "    </tr>\n",
       "  </thead>\n",
       "  <tbody>\n",
       "    <tr>\n",
       "      <th>0</th>\n",
       "      <td>1</td>\n",
       "    </tr>\n",
       "    <tr>\n",
       "      <th>1</th>\n",
       "      <td>1</td>\n",
       "    </tr>\n",
       "    <tr>\n",
       "      <th>2</th>\n",
       "      <td>1</td>\n",
       "    </tr>\n",
       "    <tr>\n",
       "      <th>3</th>\n",
       "      <td>2</td>\n",
       "    </tr>\n",
       "    <tr>\n",
       "      <th>4</th>\n",
       "      <td>1</td>\n",
       "    </tr>\n",
       "    <tr>\n",
       "      <th>...</th>\n",
       "      <td>...</td>\n",
       "    </tr>\n",
       "    <tr>\n",
       "      <th>54315</th>\n",
       "      <td>1</td>\n",
       "    </tr>\n",
       "    <tr>\n",
       "      <th>54316</th>\n",
       "      <td>1</td>\n",
       "    </tr>\n",
       "    <tr>\n",
       "      <th>54317</th>\n",
       "      <td>4</td>\n",
       "    </tr>\n",
       "    <tr>\n",
       "      <th>54318</th>\n",
       "      <td>1</td>\n",
       "    </tr>\n",
       "    <tr>\n",
       "      <th>54319</th>\n",
       "      <td>1</td>\n",
       "    </tr>\n",
       "  </tbody>\n",
       "</table>\n",
       "<p>54320 rows × 1 columns</p>\n",
       "</div>"
      ],
      "text/plain": [
       "       prediction\n",
       "0               1\n",
       "1               1\n",
       "2               1\n",
       "3               2\n",
       "4               1\n",
       "...           ...\n",
       "54315           1\n",
       "54316           1\n",
       "54317           4\n",
       "54318           1\n",
       "54319           1\n",
       "\n",
       "[54320 rows x 1 columns]"
      ]
     },
     "execution_count": 12,
     "metadata": {},
     "output_type": "execute_result"
    }
   ],
   "source": [
    "final_preds = pred_xgb.argmax(axis=1)+1\n",
    "pred_csv = pd.DataFrame(final_preds.reshape(-1), columns=['prediction'] )\n",
    "pred_csv"
   ]
  },
  {
   "cell_type": "code",
   "execution_count": 13,
   "metadata": {
    "execution": {
     "iopub.execute_input": "2020-12-08T18:48:21.220898Z",
     "iopub.status.busy": "2020-12-08T18:48:21.220043Z",
     "iopub.status.idle": "2020-12-08T18:48:21.228395Z",
     "shell.execute_reply": "2020-12-08T18:48:21.227927Z"
    },
    "papermill": {
     "duration": 0.034456,
     "end_time": "2020-12-08T18:48:21.228490",
     "exception": false,
     "start_time": "2020-12-08T18:48:21.194034",
     "status": "completed"
    },
    "tags": []
   },
   "outputs": [
    {
     "data": {
      "text/plain": [
       "prediction\n",
       "1             34422\n",
       "2              8454\n",
       "3              8327\n",
       "4              3117\n",
       "dtype: int64"
      ]
     },
     "execution_count": 13,
     "metadata": {},
     "output_type": "execute_result"
    }
   ],
   "source": [
    "pred_csv.value_counts()"
   ]
  },
  {
   "cell_type": "code",
   "execution_count": 14,
   "metadata": {
    "execution": {
     "iopub.execute_input": "2020-12-08T18:48:21.276166Z",
     "iopub.status.busy": "2020-12-08T18:48:21.275551Z",
     "iopub.status.idle": "2020-12-08T18:48:21.576438Z",
     "shell.execute_reply": "2020-12-08T18:48:21.575481Z"
    },
    "papermill": {
     "duration": 0.326097,
     "end_time": "2020-12-08T18:48:21.576568",
     "exception": false,
     "start_time": "2020-12-08T18:48:21.250471",
     "status": "completed"
    },
    "tags": []
   },
   "outputs": [],
   "source": [
    "pred_csv.to_csv('submission.csv', index=False)"
   ]
  },
  {
   "cell_type": "code",
   "execution_count": 15,
   "metadata": {
    "execution": {
     "iopub.execute_input": "2020-12-08T18:48:21.625741Z",
     "iopub.status.busy": "2020-12-08T18:48:21.624820Z",
     "iopub.status.idle": "2020-12-08T18:48:21.640881Z",
     "shell.execute_reply": "2020-12-08T18:48:21.640330Z"
    },
    "papermill": {
     "duration": 0.042479,
     "end_time": "2020-12-08T18:48:21.640983",
     "exception": false,
     "start_time": "2020-12-08T18:48:21.598504",
     "status": "completed"
    },
    "tags": []
   },
   "outputs": [],
   "source": [
    "np.save('oof_xgb.npy', oof_xgb)\n",
    "np.save('pred_xgb.npy', pred_xgb)"
   ]
  },
  {
   "cell_type": "code",
   "execution_count": null,
   "metadata": {
    "papermill": {
     "duration": 0.021538,
     "end_time": "2020-12-08T18:48:21.685388",
     "exception": false,
     "start_time": "2020-12-08T18:48:21.663850",
     "status": "completed"
    },
    "tags": []
   },
   "outputs": [],
   "source": []
  }
 ],
 "metadata": {
  "kernelspec": {
   "display_name": "Python 3",
   "language": "python",
   "name": "python3"
  },
  "language_info": {
   "codemirror_mode": {
    "name": "ipython",
    "version": 3
   },
   "file_extension": ".py",
   "mimetype": "text/x-python",
   "name": "python",
   "nbconvert_exporter": "python",
   "pygments_lexer": "ipython3",
   "version": "3.7.3"
  },
  "papermill": {
   "duration": 1528.825924,
   "end_time": "2020-12-08T18:48:22.017819",
   "environment_variables": {},
   "exception": null,
   "input_path": "__notebook__.ipynb",
   "output_path": "__notebook__.ipynb",
   "parameters": {},
   "start_time": "2020-12-08T18:22:53.191895",
   "version": "2.1.0"
  }
 },
 "nbformat": 4,
 "nbformat_minor": 4
}
