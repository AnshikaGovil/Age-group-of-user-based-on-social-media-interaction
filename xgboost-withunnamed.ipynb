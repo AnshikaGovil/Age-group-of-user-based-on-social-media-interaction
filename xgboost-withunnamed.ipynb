{
 "cells": [
  {
   "cell_type": "code",
   "execution_count": 1,
   "metadata": {
    "_cell_guid": "79c7e3d0-c299-4dcb-8224-4455121ee9b0",
    "_uuid": "d629ff2d2480ee46fbb7e2d37f6b5fab8052498a"
   },
   "outputs": [],
   "source": [
    "import pandas as pd\n",
    "import time\n",
    "import numpy as np\n",
    "import xgboost as xgb\n",
    "from sklearn.model_selection import StratifiedKFold\n",
    "from sklearn.metrics import f1_score, accuracy_score"
   ]
  },
  {
   "cell_type": "code",
   "execution_count": 10,
   "metadata": {},
   "outputs": [],
   "source": [
    "train = pd.read_csv('/kaggle/input/Cascade_cup/train_age_dataset.csv')\n",
    "test = pd.read_csv('/kaggle/input/Cascade_cup/test_age_dataset.csv')\n",
    "sample = pd.read_csv('/kaggle/input/Cascade_cup/sample_submission.csv')"
   ]
  },
  {
   "cell_type": "code",
   "execution_count": 11,
   "metadata": {},
   "outputs": [],
   "source": [
    "train = pd.get_dummies(train, columns=['tier','gender'])\n",
    "test = pd.get_dummies(test, columns=['tier','gender'])\n",
    "\n",
    "# REMEMBER TO ADD 1 IN THE END\n",
    "\n",
    "train['age_group'] = train['age_group']-1"
   ]
  },
  {
   "cell_type": "code",
   "execution_count": 12,
   "metadata": {},
   "outputs": [],
   "source": [
    "feature_cols = [col for col in train.columns.tolist() if col not in ['age_group','gender_2', 'tier_1','tier_3',\n",
    "                                                                    'num_of_hashtags_per_action','avgDuration','avgCompletion']]\n",
    "target_cols = ['age_group']"
   ]
  },
  {
   "cell_type": "code",
   "execution_count": 13,
   "metadata": {},
   "outputs": [],
   "source": [
    "# KFOLD\n",
    "skf = StratifiedKFold(n_splits=5, random_state=0, shuffle=True)\n",
    "\n",
    "for i, (trn, val) in enumerate(skf.split(train[target_cols], train[target_cols])):\n",
    "    train.loc[val, 'kfold'] = i\n",
    "train['kfold'] = train['kfold'].astype(int)"
   ]
  },
  {
   "cell_type": "code",
   "execution_count": 14,
   "metadata": {},
   "outputs": [],
   "source": [
    "def run_training():\n",
    "    oof = np.zeros((train.shape[0], 4))\n",
    "    pred = np.zeros((test.shape[0], 4))\n",
    "    \n",
    "    for fold in range(5):\n",
    "        \n",
    "        print(f\"\\nStarting FOLD: {fold}\")\n",
    "        start = time.time()\n",
    "        \n",
    "\n",
    "        trn_idx = train['kfold'] != fold\n",
    "        val_idx = train['kfold'] == fold\n",
    "        trn = train.loc[trn_idx, :]\n",
    "        val = train.loc[val_idx, :]\n",
    "\n",
    "        xtr, ytr = trn[feature_cols].values, trn[target_cols].values\n",
    "        xval, yval = val[feature_cols].values, val[target_cols].values\n",
    "        xtest = test[feature_cols].values\n",
    "\n",
    "        model = xgb.XGBClassifier(n_estimators = 500, reg_alpha=0.7)\n",
    "        print(\"Fitting model ...\")\n",
    "        model.fit(xtr, ytr.reshape(-1,))\n",
    "        \n",
    "        print(\"Calculating training preds ...\")\n",
    "        train_preds = model.predict(xtr)\n",
    "        print(\"Calculating validation preds ...\")\n",
    "        val_preds = model.predict(xval)\n",
    "        print(\"Training Accuracy Score - \", accuracy_score(ytr, train_preds ))\n",
    "        print(\"Training F1 Score - \", f1_score(ytr, train_preds, average='weighted'))\n",
    "        \n",
    "        print(\"Validation Accuracy Score - \", accuracy_score(yval, val_preds))\n",
    "        print(\"Validation F1 Score - \", f1_score(yval, val_preds, average='weighted'))\n",
    "        \n",
    "        oof[val_idx, :] += model.predict_proba(xval)\n",
    "        \n",
    "        # Test preds\n",
    "        pred += model.predict_proba(xtest)/5\n",
    "        \n",
    "        print(f\"FOLD {fold} completed in {time.time()-start} seconds\")\n",
    "        \n",
    "    return oof, pred"
   ]
  },
  {
   "cell_type": "code",
   "execution_count": 15,
   "metadata": {},
   "outputs": [
    {
     "name": "stdout",
     "output_type": "stream",
     "text": [
      "\n",
      "Starting FOLD: 0\n",
      "Fitting model ...\n",
      "Calculating training preds ...\n",
      "Calculating validation preds ...\n",
      "Training Accuracy Score -  0.9065356519160013\n",
      "Training F1 Score -  0.9028607210941959\n",
      "Validation Accuracy Score -  0.8127556864670267\n",
      "Validation F1 Score -  0.8054234769847355\n",
      "FOLD 0 completed in 699.2805681228638 seconds\n",
      "\n",
      "Starting FOLD: 1\n",
      "Fitting model ...\n",
      "Calculating training preds ...\n",
      "Calculating validation preds ...\n",
      "Training Accuracy Score -  0.9058222812010197\n",
      "Training F1 Score -  0.9020828609940348\n",
      "Validation Accuracy Score -  0.8144534446080838\n",
      "Validation F1 Score -  0.806790732315977\n",
      "FOLD 1 completed in 703.4214100837708 seconds\n",
      "\n",
      "Starting FOLD: 2\n",
      "Fitting model ...\n",
      "Calculating training preds ...\n",
      "Calculating validation preds ...\n",
      "Training Accuracy Score -  0.9071239727743657\n",
      "Training F1 Score -  0.9034735854958297\n",
      "Validation Accuracy Score -  0.8144720020455126\n",
      "Validation F1 Score -  0.8068212974898973\n",
      "FOLD 2 completed in 713.6055400371552 seconds\n",
      "\n",
      "Starting FOLD: 3\n",
      "Fitting model ...\n",
      "Calculating training preds ...\n",
      "Calculating validation preds ...\n",
      "Training Accuracy Score -  0.9051398356438985\n",
      "Training F1 Score -  0.9012786820385951\n",
      "Validation Accuracy Score -  0.8151572487854769\n",
      "Validation F1 Score -  0.8075761663456875\n",
      "FOLD 3 completed in 715.8446571826935 seconds\n",
      "\n",
      "Starting FOLD: 4\n",
      "Fitting model ...\n",
      "Calculating training preds ...\n",
      "Calculating validation preds ...\n",
      "Training Accuracy Score -  0.905628199293279\n",
      "Training F1 Score -  0.9019780371358452\n",
      "Validation Accuracy Score -  0.8127742265405267\n",
      "Validation F1 Score -  0.8051932050202405\n",
      "FOLD 4 completed in 731.8239185810089 seconds\n"
     ]
    }
   ],
   "source": [
    "oof_xgb, pred_xgb = run_training()   \n",
    "#100 trees - 79.00                                  \n",
    "#150 trees - 79.41                                 \n",
    "#200 trees - 79.79                                  \n",
    "#300 trees - unregularized               - 80.17                   \n",
    "#300 trees - reg_alpha=0.1, reg_lambda=2 - 80.23   \n",
    "#300 trees - reg_alpha=0.2, reg_lambda=5 - 80.24  -- OOF - 80.26 \n",
    "#300 trees - reg_alpha=1.5, reg_lambda=5 - 80.20   \n",
    "#400 trees - unregularized               - 80.33\n",
    "#500 trees - unregularized               - 80.44\n",
    "#500 tress - reg_alpha=0.5, reg_lambda=5 - 80.53  -- OOF - 80.56 -- LB 80.89 -- overfit to 1st fold\n",
    "#500 tress - reg_alpha=0.8, reg_lambda=5 - 80.44  -- OOF - 80.53 -- LB 80.97\n",
    "#500 trees - reg_alpha=0.7, reg_lambda=0 - 80.47 -- OOF - 80.54 -- LB - 81.01 ----> without two features - 81.05\n",
    "#500 trees - reg_alpha=1.0, reg_lambda=10 - 80.32 -- OOF - 80.15 -- LB - 80.91"
   ]
  },
  {
   "cell_type": "code",
   "execution_count": 16,
   "metadata": {},
   "outputs": [],
   "source": [
    "def find_oof_score(oof):\n",
    "    predictions = oof.argmax(axis=1)\n",
    "    print(\"OOF Accuracy Score - \", accuracy_score(train[target_cols], predictions))\n",
    "    print(\"OOF F1 Score - \", f1_score(train[target_cols], predictions, average='weighted'))"
   ]
  },
  {
   "cell_type": "code",
   "execution_count": 17,
   "metadata": {},
   "outputs": [
    {
     "name": "stdout",
     "output_type": "stream",
     "text": [
      "OOF Accuracy Score -  0.8139225203885639\n",
      "OOF F1 Score -  0.8063599626965134\n"
     ]
    }
   ],
   "source": [
    "find_oof_score(oof_xgb) # 80.26"
   ]
  },
  {
   "cell_type": "code",
   "execution_count": 18,
   "metadata": {},
   "outputs": [
    {
     "data": {
      "text/plain": [
       "(54320, 4)"
      ]
     },
     "execution_count": 18,
     "metadata": {},
     "output_type": "execute_result"
    }
   ],
   "source": [
    "pred_xgb.shape"
   ]
  },
  {
   "cell_type": "code",
   "execution_count": 19,
   "metadata": {},
   "outputs": [
    {
     "data": {
      "text/html": [
       "<div>\n",
       "<style scoped>\n",
       "    .dataframe tbody tr th:only-of-type {\n",
       "        vertical-align: middle;\n",
       "    }\n",
       "\n",
       "    .dataframe tbody tr th {\n",
       "        vertical-align: top;\n",
       "    }\n",
       "\n",
       "    .dataframe thead th {\n",
       "        text-align: right;\n",
       "    }\n",
       "</style>\n",
       "<table border=\"1\" class=\"dataframe\">\n",
       "  <thead>\n",
       "    <tr style=\"text-align: right;\">\n",
       "      <th></th>\n",
       "      <th>prediction</th>\n",
       "    </tr>\n",
       "  </thead>\n",
       "  <tbody>\n",
       "    <tr>\n",
       "      <th>0</th>\n",
       "      <td>1</td>\n",
       "    </tr>\n",
       "    <tr>\n",
       "      <th>1</th>\n",
       "      <td>1</td>\n",
       "    </tr>\n",
       "    <tr>\n",
       "      <th>2</th>\n",
       "      <td>1</td>\n",
       "    </tr>\n",
       "    <tr>\n",
       "      <th>3</th>\n",
       "      <td>3</td>\n",
       "    </tr>\n",
       "    <tr>\n",
       "      <th>4</th>\n",
       "      <td>1</td>\n",
       "    </tr>\n",
       "    <tr>\n",
       "      <th>...</th>\n",
       "      <td>...</td>\n",
       "    </tr>\n",
       "    <tr>\n",
       "      <th>54315</th>\n",
       "      <td>1</td>\n",
       "    </tr>\n",
       "    <tr>\n",
       "      <th>54316</th>\n",
       "      <td>1</td>\n",
       "    </tr>\n",
       "    <tr>\n",
       "      <th>54317</th>\n",
       "      <td>4</td>\n",
       "    </tr>\n",
       "    <tr>\n",
       "      <th>54318</th>\n",
       "      <td>1</td>\n",
       "    </tr>\n",
       "    <tr>\n",
       "      <th>54319</th>\n",
       "      <td>1</td>\n",
       "    </tr>\n",
       "  </tbody>\n",
       "</table>\n",
       "<p>54320 rows × 1 columns</p>\n",
       "</div>"
      ],
      "text/plain": [
       "       prediction\n",
       "0               1\n",
       "1               1\n",
       "2               1\n",
       "3               3\n",
       "4               1\n",
       "...           ...\n",
       "54315           1\n",
       "54316           1\n",
       "54317           4\n",
       "54318           1\n",
       "54319           1\n",
       "\n",
       "[54320 rows x 1 columns]"
      ]
     },
     "execution_count": 19,
     "metadata": {},
     "output_type": "execute_result"
    }
   ],
   "source": [
    "final_preds = pred_xgb.argmax(axis=1)+1\n",
    "pred_csv = pd.DataFrame(final_preds.reshape(-1), columns=['prediction'] )\n",
    "pred_csv"
   ]
  },
  {
   "cell_type": "code",
   "execution_count": 20,
   "metadata": {},
   "outputs": [
    {
     "data": {
      "text/plain": [
       "prediction\n",
       "1             34890\n",
       "2              8212\n",
       "3              7815\n",
       "4              3403\n",
       "dtype: int64"
      ]
     },
     "execution_count": 20,
     "metadata": {},
     "output_type": "execute_result"
    }
   ],
   "source": [
    "pred_csv.value_counts()"
   ]
  },
  {
   "cell_type": "code",
   "execution_count": 21,
   "metadata": {},
   "outputs": [],
   "source": [
    "pred_csv.to_csv('featureremoved.csv', index=False)"
   ]
  },
  {
   "cell_type": "code",
   "execution_count": 22,
   "metadata": {},
   "outputs": [],
   "source": [
    "np.save('oof_xgb.npy', oof_xgb)\n",
    "np.save('pred_xgb.npy', pred_xgb)"
   ]
  },
  {
   "cell_type": "code",
   "execution_count": null,
   "metadata": {},
   "outputs": [],
   "source": []
  }
 ],
 "metadata": {
  "kernelspec": {
   "display_name": "Python 3",
   "language": "python",
   "name": "python3"
  },
  "language_info": {
   "codemirror_mode": {
    "name": "ipython",
    "version": 3
   },
   "file_extension": ".py",
   "mimetype": "text/x-python",
   "name": "python",
   "nbconvert_exporter": "python",
   "pygments_lexer": "ipython3",
   "version": "3.7.3"
  }
 },
 "nbformat": 4,
 "nbformat_minor": 4
}
