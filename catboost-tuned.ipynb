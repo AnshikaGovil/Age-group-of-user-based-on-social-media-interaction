{
 "cells": [
  {
   "cell_type": "code",
   "execution_count": 1,
   "metadata": {
    "_cell_guid": "b1076dfc-b9ad-4769-8c92-a6c4dae69d19",
    "_uuid": "8f2839f25d086af736a60e9eeb907d3b93b6e0e5",
    "execution": {
     "iopub.execute_input": "2020-12-08T18:38:05.207966Z",
     "iopub.status.busy": "2020-12-08T18:38:05.207116Z",
     "iopub.status.idle": "2020-12-08T18:38:06.409989Z",
     "shell.execute_reply": "2020-12-08T18:38:06.408763Z"
    },
    "papermill": {
     "duration": 1.230146,
     "end_time": "2020-12-08T18:38:06.410144",
     "exception": false,
     "start_time": "2020-12-08T18:38:05.179998",
     "status": "completed"
    },
    "tags": []
   },
   "outputs": [],
   "source": [
    "# Skopt functions\n",
    "from skopt import BayesSearchCV\n",
    "from skopt.callbacks import DeadlineStopper, VerboseCallback, DeltaXStopper\n",
    "from skopt.space import Real, Categorical, Integer\n",
    "from time import time\n",
    "\n",
    "# Metrics\n",
    "from sklearn.metrics import f1_score\n",
    "from sklearn.metrics import make_scorer"
   ]
  },
  {
   "cell_type": "code",
   "execution_count": 2,
   "metadata": {
    "_cell_guid": "79c7e3d0-c299-4dcb-8224-4455121ee9b0",
    "_uuid": "d629ff2d2480ee46fbb7e2d37f6b5fab8052498a",
    "execution": {
     "iopub.execute_input": "2020-12-08T18:38:06.457420Z",
     "iopub.status.busy": "2020-12-08T18:38:06.456624Z",
     "iopub.status.idle": "2020-12-08T18:38:11.182292Z",
     "shell.execute_reply": "2020-12-08T18:38:11.181297Z"
    },
    "papermill": {
     "duration": 4.751508,
     "end_time": "2020-12-08T18:38:11.182424",
     "exception": false,
     "start_time": "2020-12-08T18:38:06.430916",
     "status": "completed"
    },
    "tags": []
   },
   "outputs": [],
   "source": [
    "import pandas as pd\n",
    "pd.set_option('display.max_columns', 500)\n",
    "import time\n",
    "import numpy as np\n",
    "import xgboost as xgb\n",
    "from sklearn.model_selection import StratifiedKFold\n",
    "from sklearn.metrics import f1_score, accuracy_score"
   ]
  },
  {
   "cell_type": "code",
   "execution_count": 3,
   "metadata": {
    "execution": {
     "iopub.execute_input": "2020-12-08T18:38:11.240136Z",
     "iopub.status.busy": "2020-12-08T18:38:11.239492Z",
     "iopub.status.idle": "2020-12-08T18:38:13.593836Z",
     "shell.execute_reply": "2020-12-08T18:38:13.592581Z"
    },
    "papermill": {
     "duration": 2.390271,
     "end_time": "2020-12-08T18:38:13.593966",
     "exception": false,
     "start_time": "2020-12-08T18:38:11.203695",
     "status": "completed"
    },
    "tags": []
   },
   "outputs": [],
   "source": [
    "train = pd.read_csv('/kaggle/input/Cascade_cup/train_age_dataset.csv')\n",
    "test = pd.read_csv('/kaggle/input/Cascade_cup/test_age_dataset.csv')\n",
    "sample = pd.read_csv('/kaggle/input/Cascade_cup/sample_submission.csv')"
   ]
  },
  {
   "cell_type": "code",
   "execution_count": 4,
   "metadata": {
    "execution": {
     "iopub.execute_input": "2020-12-08T18:38:13.651657Z",
     "iopub.status.busy": "2020-12-08T18:38:13.646278Z",
     "iopub.status.idle": "2020-12-08T18:38:13.691028Z",
     "shell.execute_reply": "2020-12-08T18:38:13.691514Z"
    },
    "papermill": {
     "duration": 0.077774,
     "end_time": "2020-12-08T18:38:13.691631",
     "exception": false,
     "start_time": "2020-12-08T18:38:13.613857",
     "status": "completed"
    },
    "tags": []
   },
   "outputs": [
    {
     "data": {
      "text/html": [
       "<div>\n",
       "<style scoped>\n",
       "    .dataframe tbody tr th:only-of-type {\n",
       "        vertical-align: middle;\n",
       "    }\n",
       "\n",
       "    .dataframe tbody tr th {\n",
       "        vertical-align: top;\n",
       "    }\n",
       "\n",
       "    .dataframe thead th {\n",
       "        text-align: right;\n",
       "    }\n",
       "</style>\n",
       "<table border=\"1\" class=\"dataframe\">\n",
       "  <thead>\n",
       "    <tr style=\"text-align: right;\">\n",
       "      <th></th>\n",
       "      <th>Unnamed: 0</th>\n",
       "      <th>userId</th>\n",
       "      <th>tier</th>\n",
       "      <th>gender</th>\n",
       "      <th>following_rate</th>\n",
       "      <th>followers_avg_age</th>\n",
       "      <th>following_avg_age</th>\n",
       "      <th>max_repetitive_punc</th>\n",
       "      <th>num_of_hashtags_per_action</th>\n",
       "      <th>emoji_count_per_action</th>\n",
       "      <th>punctuations_per_action</th>\n",
       "      <th>number_of_words_per_action</th>\n",
       "      <th>avgCompletion</th>\n",
       "      <th>avgTimeSpent</th>\n",
       "      <th>avgDuration</th>\n",
       "      <th>avgComments</th>\n",
       "      <th>creations</th>\n",
       "      <th>content_views</th>\n",
       "      <th>num_of_comments</th>\n",
       "      <th>weekends_trails_watched_per_day</th>\n",
       "      <th>weekdays_trails_watched_per_day</th>\n",
       "      <th>slot1_trails_watched_per_day</th>\n",
       "      <th>slot2_trails_watched_per_day</th>\n",
       "      <th>slot3_trails_watched_per_day</th>\n",
       "      <th>slot4_trails_watched_per_day</th>\n",
       "      <th>avgt2</th>\n",
       "      <th>age_group</th>\n",
       "    </tr>\n",
       "  </thead>\n",
       "  <tbody>\n",
       "    <tr>\n",
       "      <th>0</th>\n",
       "      <td>265153</td>\n",
       "      <td>48958844</td>\n",
       "      <td>2</td>\n",
       "      <td>1</td>\n",
       "      <td>0.000000</td>\n",
       "      <td>0.000</td>\n",
       "      <td>0.00</td>\n",
       "      <td>0</td>\n",
       "      <td>0.0</td>\n",
       "      <td>0.0</td>\n",
       "      <td>0.000000</td>\n",
       "      <td>0.000000</td>\n",
       "      <td>0.463330</td>\n",
       "      <td>34.160000</td>\n",
       "      <td>53.996091</td>\n",
       "      <td>0</td>\n",
       "      <td>0.000000</td>\n",
       "      <td>0.200000</td>\n",
       "      <td>0.000000</td>\n",
       "      <td>0.041667</td>\n",
       "      <td>0.025000</td>\n",
       "      <td>0.000000</td>\n",
       "      <td>0.000000</td>\n",
       "      <td>0.175000</td>\n",
       "      <td>0.033333</td>\n",
       "      <td>0.000000</td>\n",
       "      <td>1</td>\n",
       "    </tr>\n",
       "    <tr>\n",
       "      <th>1</th>\n",
       "      <td>405231</td>\n",
       "      <td>51100441</td>\n",
       "      <td>2</td>\n",
       "      <td>2</td>\n",
       "      <td>0.000000</td>\n",
       "      <td>0.000</td>\n",
       "      <td>0.00</td>\n",
       "      <td>0</td>\n",
       "      <td>0.0</td>\n",
       "      <td>0.0</td>\n",
       "      <td>0.076923</td>\n",
       "      <td>0.153846</td>\n",
       "      <td>0.429468</td>\n",
       "      <td>15.285714</td>\n",
       "      <td>96.231625</td>\n",
       "      <td>0</td>\n",
       "      <td>0.008475</td>\n",
       "      <td>0.093220</td>\n",
       "      <td>0.000000</td>\n",
       "      <td>0.012712</td>\n",
       "      <td>0.018644</td>\n",
       "      <td>0.000000</td>\n",
       "      <td>0.084746</td>\n",
       "      <td>0.000000</td>\n",
       "      <td>0.033898</td>\n",
       "      <td>82.500000</td>\n",
       "      <td>2</td>\n",
       "    </tr>\n",
       "    <tr>\n",
       "      <th>2</th>\n",
       "      <td>57867</td>\n",
       "      <td>6887426</td>\n",
       "      <td>2</td>\n",
       "      <td>1</td>\n",
       "      <td>0.000000</td>\n",
       "      <td>0.000</td>\n",
       "      <td>0.00</td>\n",
       "      <td>0</td>\n",
       "      <td>0.0</td>\n",
       "      <td>0.0</td>\n",
       "      <td>0.000000</td>\n",
       "      <td>0.000000</td>\n",
       "      <td>0.341657</td>\n",
       "      <td>22.000000</td>\n",
       "      <td>83.051415</td>\n",
       "      <td>0</td>\n",
       "      <td>0.000000</td>\n",
       "      <td>0.002786</td>\n",
       "      <td>0.000000</td>\n",
       "      <td>0.000000</td>\n",
       "      <td>0.000557</td>\n",
       "      <td>0.000000</td>\n",
       "      <td>0.002786</td>\n",
       "      <td>0.000000</td>\n",
       "      <td>0.000000</td>\n",
       "      <td>0.000000</td>\n",
       "      <td>1</td>\n",
       "    </tr>\n",
       "    <tr>\n",
       "      <th>3</th>\n",
       "      <td>272618</td>\n",
       "      <td>50742404</td>\n",
       "      <td>2</td>\n",
       "      <td>1</td>\n",
       "      <td>0.000000</td>\n",
       "      <td>0.000</td>\n",
       "      <td>0.00</td>\n",
       "      <td>0</td>\n",
       "      <td>0.0</td>\n",
       "      <td>0.0</td>\n",
       "      <td>0.000000</td>\n",
       "      <td>0.000000</td>\n",
       "      <td>0.005735</td>\n",
       "      <td>3.000000</td>\n",
       "      <td>523.080000</td>\n",
       "      <td>0</td>\n",
       "      <td>0.000000</td>\n",
       "      <td>0.008403</td>\n",
       "      <td>0.000000</td>\n",
       "      <td>0.000000</td>\n",
       "      <td>0.001681</td>\n",
       "      <td>0.000000</td>\n",
       "      <td>0.000000</td>\n",
       "      <td>0.000000</td>\n",
       "      <td>0.008403</td>\n",
       "      <td>0.000000</td>\n",
       "      <td>1</td>\n",
       "    </tr>\n",
       "    <tr>\n",
       "      <th>4</th>\n",
       "      <td>251123</td>\n",
       "      <td>45589200</td>\n",
       "      <td>2</td>\n",
       "      <td>2</td>\n",
       "      <td>0.000000</td>\n",
       "      <td>0.000</td>\n",
       "      <td>0.00</td>\n",
       "      <td>0</td>\n",
       "      <td>0.0</td>\n",
       "      <td>0.0</td>\n",
       "      <td>0.000000</td>\n",
       "      <td>0.000000</td>\n",
       "      <td>0.456549</td>\n",
       "      <td>12.333333</td>\n",
       "      <td>53.766640</td>\n",
       "      <td>0</td>\n",
       "      <td>0.000000</td>\n",
       "      <td>0.204918</td>\n",
       "      <td>0.000000</td>\n",
       "      <td>0.000000</td>\n",
       "      <td>0.049180</td>\n",
       "      <td>0.000000</td>\n",
       "      <td>0.008197</td>\n",
       "      <td>0.057377</td>\n",
       "      <td>0.180328</td>\n",
       "      <td>0.000000</td>\n",
       "      <td>1</td>\n",
       "    </tr>\n",
       "    <tr>\n",
       "      <th>...</th>\n",
       "      <td>...</td>\n",
       "      <td>...</td>\n",
       "      <td>...</td>\n",
       "      <td>...</td>\n",
       "      <td>...</td>\n",
       "      <td>...</td>\n",
       "      <td>...</td>\n",
       "      <td>...</td>\n",
       "      <td>...</td>\n",
       "      <td>...</td>\n",
       "      <td>...</td>\n",
       "      <td>...</td>\n",
       "      <td>...</td>\n",
       "      <td>...</td>\n",
       "      <td>...</td>\n",
       "      <td>...</td>\n",
       "      <td>...</td>\n",
       "      <td>...</td>\n",
       "      <td>...</td>\n",
       "      <td>...</td>\n",
       "      <td>...</td>\n",
       "      <td>...</td>\n",
       "      <td>...</td>\n",
       "      <td>...</td>\n",
       "      <td>...</td>\n",
       "      <td>...</td>\n",
       "      <td>...</td>\n",
       "    </tr>\n",
       "    <tr>\n",
       "      <th>488872</th>\n",
       "      <td>535266</td>\n",
       "      <td>38983571</td>\n",
       "      <td>2</td>\n",
       "      <td>2</td>\n",
       "      <td>0.000000</td>\n",
       "      <td>0.000</td>\n",
       "      <td>0.00</td>\n",
       "      <td>0</td>\n",
       "      <td>0.0</td>\n",
       "      <td>0.0</td>\n",
       "      <td>0.000000</td>\n",
       "      <td>0.300000</td>\n",
       "      <td>0.422837</td>\n",
       "      <td>8.714286</td>\n",
       "      <td>56.783167</td>\n",
       "      <td>0</td>\n",
       "      <td>0.008000</td>\n",
       "      <td>0.064000</td>\n",
       "      <td>0.000000</td>\n",
       "      <td>0.012000</td>\n",
       "      <td>0.006400</td>\n",
       "      <td>0.000000</td>\n",
       "      <td>0.008000</td>\n",
       "      <td>0.000000</td>\n",
       "      <td>0.048000</td>\n",
       "      <td>195.000000</td>\n",
       "      <td>1</td>\n",
       "    </tr>\n",
       "    <tr>\n",
       "      <th>488873</th>\n",
       "      <td>36706</td>\n",
       "      <td>53264639</td>\n",
       "      <td>1</td>\n",
       "      <td>1</td>\n",
       "      <td>0.017241</td>\n",
       "      <td>0.000</td>\n",
       "      <td>0.00</td>\n",
       "      <td>0</td>\n",
       "      <td>0.0</td>\n",
       "      <td>0.0</td>\n",
       "      <td>0.000000</td>\n",
       "      <td>0.012195</td>\n",
       "      <td>0.668494</td>\n",
       "      <td>35.662921</td>\n",
       "      <td>69.031216</td>\n",
       "      <td>2</td>\n",
       "      <td>0.051724</td>\n",
       "      <td>2.043103</td>\n",
       "      <td>0.017241</td>\n",
       "      <td>0.301724</td>\n",
       "      <td>0.339655</td>\n",
       "      <td>0.068966</td>\n",
       "      <td>0.922414</td>\n",
       "      <td>0.137931</td>\n",
       "      <td>1.172414</td>\n",
       "      <td>188.742857</td>\n",
       "      <td>4</td>\n",
       "    </tr>\n",
       "    <tr>\n",
       "      <th>488874</th>\n",
       "      <td>31570</td>\n",
       "      <td>44693578</td>\n",
       "      <td>1</td>\n",
       "      <td>1</td>\n",
       "      <td>0.229508</td>\n",
       "      <td>1.625</td>\n",
       "      <td>2.25</td>\n",
       "      <td>0</td>\n",
       "      <td>0.0</td>\n",
       "      <td>0.0</td>\n",
       "      <td>0.000000</td>\n",
       "      <td>0.094340</td>\n",
       "      <td>0.579213</td>\n",
       "      <td>13.444444</td>\n",
       "      <td>50.611380</td>\n",
       "      <td>0</td>\n",
       "      <td>0.016393</td>\n",
       "      <td>0.409836</td>\n",
       "      <td>0.000000</td>\n",
       "      <td>0.000000</td>\n",
       "      <td>0.118033</td>\n",
       "      <td>0.000000</td>\n",
       "      <td>0.049180</td>\n",
       "      <td>0.237705</td>\n",
       "      <td>0.303279</td>\n",
       "      <td>184.880000</td>\n",
       "      <td>4</td>\n",
       "    </tr>\n",
       "    <tr>\n",
       "      <th>488875</th>\n",
       "      <td>239209</td>\n",
       "      <td>42760145</td>\n",
       "      <td>2</td>\n",
       "      <td>1</td>\n",
       "      <td>0.000000</td>\n",
       "      <td>0.000</td>\n",
       "      <td>0.00</td>\n",
       "      <td>0</td>\n",
       "      <td>0.0</td>\n",
       "      <td>0.0</td>\n",
       "      <td>0.000000</td>\n",
       "      <td>0.000000</td>\n",
       "      <td>0.221303</td>\n",
       "      <td>9.578947</td>\n",
       "      <td>131.188182</td>\n",
       "      <td>0</td>\n",
       "      <td>0.000000</td>\n",
       "      <td>0.113821</td>\n",
       "      <td>0.000000</td>\n",
       "      <td>0.000000</td>\n",
       "      <td>0.030894</td>\n",
       "      <td>0.000000</td>\n",
       "      <td>0.024390</td>\n",
       "      <td>0.130081</td>\n",
       "      <td>0.000000</td>\n",
       "      <td>0.000000</td>\n",
       "      <td>1</td>\n",
       "    </tr>\n",
       "    <tr>\n",
       "      <th>488876</th>\n",
       "      <td>238035</td>\n",
       "      <td>42482997</td>\n",
       "      <td>2</td>\n",
       "      <td>1</td>\n",
       "      <td>0.000000</td>\n",
       "      <td>0.000</td>\n",
       "      <td>0.00</td>\n",
       "      <td>0</td>\n",
       "      <td>0.0</td>\n",
       "      <td>0.0</td>\n",
       "      <td>0.000000</td>\n",
       "      <td>0.000000</td>\n",
       "      <td>0.253091</td>\n",
       "      <td>3.142857</td>\n",
       "      <td>10.550500</td>\n",
       "      <td>0</td>\n",
       "      <td>0.000000</td>\n",
       "      <td>0.073171</td>\n",
       "      <td>0.000000</td>\n",
       "      <td>0.000000</td>\n",
       "      <td>0.011382</td>\n",
       "      <td>0.000000</td>\n",
       "      <td>0.000000</td>\n",
       "      <td>0.056911</td>\n",
       "      <td>0.000000</td>\n",
       "      <td>0.000000</td>\n",
       "      <td>1</td>\n",
       "    </tr>\n",
       "  </tbody>\n",
       "</table>\n",
       "<p>488877 rows × 27 columns</p>\n",
       "</div>"
      ],
      "text/plain": [
       "        Unnamed: 0    userId  tier  gender  following_rate  followers_avg_age  \\\n",
       "0           265153  48958844     2       1        0.000000              0.000   \n",
       "1           405231  51100441     2       2        0.000000              0.000   \n",
       "2            57867   6887426     2       1        0.000000              0.000   \n",
       "3           272618  50742404     2       1        0.000000              0.000   \n",
       "4           251123  45589200     2       2        0.000000              0.000   \n",
       "...            ...       ...   ...     ...             ...                ...   \n",
       "488872      535266  38983571     2       2        0.000000              0.000   \n",
       "488873       36706  53264639     1       1        0.017241              0.000   \n",
       "488874       31570  44693578     1       1        0.229508              1.625   \n",
       "488875      239209  42760145     2       1        0.000000              0.000   \n",
       "488876      238035  42482997     2       1        0.000000              0.000   \n",
       "\n",
       "        following_avg_age  max_repetitive_punc  num_of_hashtags_per_action  \\\n",
       "0                    0.00                    0                         0.0   \n",
       "1                    0.00                    0                         0.0   \n",
       "2                    0.00                    0                         0.0   \n",
       "3                    0.00                    0                         0.0   \n",
       "4                    0.00                    0                         0.0   \n",
       "...                   ...                  ...                         ...   \n",
       "488872               0.00                    0                         0.0   \n",
       "488873               0.00                    0                         0.0   \n",
       "488874               2.25                    0                         0.0   \n",
       "488875               0.00                    0                         0.0   \n",
       "488876               0.00                    0                         0.0   \n",
       "\n",
       "        emoji_count_per_action  punctuations_per_action  \\\n",
       "0                          0.0                 0.000000   \n",
       "1                          0.0                 0.076923   \n",
       "2                          0.0                 0.000000   \n",
       "3                          0.0                 0.000000   \n",
       "4                          0.0                 0.000000   \n",
       "...                        ...                      ...   \n",
       "488872                     0.0                 0.000000   \n",
       "488873                     0.0                 0.000000   \n",
       "488874                     0.0                 0.000000   \n",
       "488875                     0.0                 0.000000   \n",
       "488876                     0.0                 0.000000   \n",
       "\n",
       "        number_of_words_per_action  avgCompletion  avgTimeSpent  avgDuration  \\\n",
       "0                         0.000000       0.463330     34.160000    53.996091   \n",
       "1                         0.153846       0.429468     15.285714    96.231625   \n",
       "2                         0.000000       0.341657     22.000000    83.051415   \n",
       "3                         0.000000       0.005735      3.000000   523.080000   \n",
       "4                         0.000000       0.456549     12.333333    53.766640   \n",
       "...                            ...            ...           ...          ...   \n",
       "488872                    0.300000       0.422837      8.714286    56.783167   \n",
       "488873                    0.012195       0.668494     35.662921    69.031216   \n",
       "488874                    0.094340       0.579213     13.444444    50.611380   \n",
       "488875                    0.000000       0.221303      9.578947   131.188182   \n",
       "488876                    0.000000       0.253091      3.142857    10.550500   \n",
       "\n",
       "        avgComments  creations  content_views  num_of_comments  \\\n",
       "0                 0   0.000000       0.200000         0.000000   \n",
       "1                 0   0.008475       0.093220         0.000000   \n",
       "2                 0   0.000000       0.002786         0.000000   \n",
       "3                 0   0.000000       0.008403         0.000000   \n",
       "4                 0   0.000000       0.204918         0.000000   \n",
       "...             ...        ...            ...              ...   \n",
       "488872            0   0.008000       0.064000         0.000000   \n",
       "488873            2   0.051724       2.043103         0.017241   \n",
       "488874            0   0.016393       0.409836         0.000000   \n",
       "488875            0   0.000000       0.113821         0.000000   \n",
       "488876            0   0.000000       0.073171         0.000000   \n",
       "\n",
       "        weekends_trails_watched_per_day  weekdays_trails_watched_per_day  \\\n",
       "0                              0.041667                         0.025000   \n",
       "1                              0.012712                         0.018644   \n",
       "2                              0.000000                         0.000557   \n",
       "3                              0.000000                         0.001681   \n",
       "4                              0.000000                         0.049180   \n",
       "...                                 ...                              ...   \n",
       "488872                         0.012000                         0.006400   \n",
       "488873                         0.301724                         0.339655   \n",
       "488874                         0.000000                         0.118033   \n",
       "488875                         0.000000                         0.030894   \n",
       "488876                         0.000000                         0.011382   \n",
       "\n",
       "        slot1_trails_watched_per_day  slot2_trails_watched_per_day  \\\n",
       "0                           0.000000                      0.000000   \n",
       "1                           0.000000                      0.084746   \n",
       "2                           0.000000                      0.002786   \n",
       "3                           0.000000                      0.000000   \n",
       "4                           0.000000                      0.008197   \n",
       "...                              ...                           ...   \n",
       "488872                      0.000000                      0.008000   \n",
       "488873                      0.068966                      0.922414   \n",
       "488874                      0.000000                      0.049180   \n",
       "488875                      0.000000                      0.024390   \n",
       "488876                      0.000000                      0.000000   \n",
       "\n",
       "        slot3_trails_watched_per_day  slot4_trails_watched_per_day  \\\n",
       "0                           0.175000                      0.033333   \n",
       "1                           0.000000                      0.033898   \n",
       "2                           0.000000                      0.000000   \n",
       "3                           0.000000                      0.008403   \n",
       "4                           0.057377                      0.180328   \n",
       "...                              ...                           ...   \n",
       "488872                      0.000000                      0.048000   \n",
       "488873                      0.137931                      1.172414   \n",
       "488874                      0.237705                      0.303279   \n",
       "488875                      0.130081                      0.000000   \n",
       "488876                      0.056911                      0.000000   \n",
       "\n",
       "             avgt2  age_group  \n",
       "0         0.000000          1  \n",
       "1        82.500000          2  \n",
       "2         0.000000          1  \n",
       "3         0.000000          1  \n",
       "4         0.000000          1  \n",
       "...            ...        ...  \n",
       "488872  195.000000          1  \n",
       "488873  188.742857          4  \n",
       "488874  184.880000          4  \n",
       "488875    0.000000          1  \n",
       "488876    0.000000          1  \n",
       "\n",
       "[488877 rows x 27 columns]"
      ]
     },
     "execution_count": 4,
     "metadata": {},
     "output_type": "execute_result"
    }
   ],
   "source": [
    "train"
   ]
  },
  {
   "cell_type": "code",
   "execution_count": 5,
   "metadata": {
    "execution": {
     "iopub.execute_input": "2020-12-08T18:38:13.771792Z",
     "iopub.status.busy": "2020-12-08T18:38:13.770744Z",
     "iopub.status.idle": "2020-12-08T18:38:13.839053Z",
     "shell.execute_reply": "2020-12-08T18:38:13.838503Z"
    },
    "papermill": {
     "duration": 0.12667,
     "end_time": "2020-12-08T18:38:13.839197",
     "exception": false,
     "start_time": "2020-12-08T18:38:13.712527",
     "status": "completed"
    },
    "tags": []
   },
   "outputs": [],
   "source": [
    "train = pd.get_dummies(train, columns=['tier','gender'])\n",
    "test = pd.get_dummies(test, columns=['tier','gender'])"
   ]
  },
  {
   "cell_type": "markdown",
   "metadata": {
    "papermill": {
     "duration": 0.021188,
     "end_time": "2020-12-08T18:38:13.881352",
     "exception": false,
     "start_time": "2020-12-08T18:38:13.860164",
     "status": "completed"
    },
    "tags": []
   },
   "source": [
    "# REMEMBER TO ADD 1 IN THE END"
   ]
  },
  {
   "cell_type": "code",
   "execution_count": 6,
   "metadata": {
    "execution": {
     "iopub.execute_input": "2020-12-08T18:38:13.933280Z",
     "iopub.status.busy": "2020-12-08T18:38:13.931407Z",
     "iopub.status.idle": "2020-12-08T18:38:13.936684Z",
     "shell.execute_reply": "2020-12-08T18:38:13.936111Z"
    },
    "papermill": {
     "duration": 0.031666,
     "end_time": "2020-12-08T18:38:13.936798",
     "exception": false,
     "start_time": "2020-12-08T18:38:13.905132",
     "status": "completed"
    },
    "tags": []
   },
   "outputs": [],
   "source": [
    "train['age_group'] = train['age_group']-1"
   ]
  },
  {
   "cell_type": "code",
   "execution_count": 7,
   "metadata": {
    "execution": {
     "iopub.execute_input": "2020-12-08T18:38:13.983868Z",
     "iopub.status.busy": "2020-12-08T18:38:13.983124Z",
     "iopub.status.idle": "2020-12-08T18:38:13.986903Z",
     "shell.execute_reply": "2020-12-08T18:38:13.986417Z"
    },
    "papermill": {
     "duration": 0.029255,
     "end_time": "2020-12-08T18:38:13.987010",
     "exception": false,
     "start_time": "2020-12-08T18:38:13.957755",
     "status": "completed"
    },
    "tags": []
   },
   "outputs": [],
   "source": [
    "feature_cols = [col for col in train.columns.tolist() if col not in ['age_group']]\n",
    "target_cols = ['age_group']"
   ]
  },
  {
   "cell_type": "code",
   "execution_count": 8,
   "metadata": {
    "execution": {
     "iopub.execute_input": "2020-12-08T18:38:14.036931Z",
     "iopub.status.busy": "2020-12-08T18:38:14.035573Z",
     "iopub.status.idle": "2020-12-08T18:38:14.340376Z",
     "shell.execute_reply": "2020-12-08T18:38:14.339489Z"
    },
    "papermill": {
     "duration": 0.332544,
     "end_time": "2020-12-08T18:38:14.340495",
     "exception": false,
     "start_time": "2020-12-08T18:38:14.007951",
     "status": "completed"
    },
    "tags": []
   },
   "outputs": [],
   "source": [
    "# KFOLD\n",
    "skf = StratifiedKFold(n_splits=5, random_state=0, shuffle=True)\n",
    "\n",
    "for i, (trn, val) in enumerate(skf.split(train[target_cols], train[target_cols])):\n",
    "    train.loc[val, 'kfold'] = i\n",
    "train['kfold'] = train['kfold'].astype(int)"
   ]
  },
  {
   "cell_type": "code",
   "execution_count": 9,
   "metadata": {
    "execution": {
     "iopub.execute_input": "2020-12-08T18:38:14.394633Z",
     "iopub.status.busy": "2020-12-08T18:38:14.393835Z",
     "iopub.status.idle": "2020-12-08T18:38:14.397941Z",
     "shell.execute_reply": "2020-12-08T18:38:14.397451Z"
    },
    "papermill": {
     "duration": 0.035134,
     "end_time": "2020-12-08T18:38:14.398044",
     "exception": false,
     "start_time": "2020-12-08T18:38:14.362910",
     "status": "completed"
    },
    "tags": []
   },
   "outputs": [],
   "source": [
    "# Reporting util for different optimizers\n",
    "def report_perf(optimizer, X, y, title, callbacks=None):\n",
    "    \"\"\"\n",
    "    A wrapper for measuring time and performances of different optmizers\n",
    "    \n",
    "    optimizer = a sklearn or a skopt optimizer\n",
    "    X = the training set \n",
    "    y = our target\n",
    "    title = a string label for the experiment\n",
    "    \"\"\"\n",
    "    start = time.time()\n",
    "    if callbacks:\n",
    "        optimizer.fit(X, y, callback=callbacks)\n",
    "    else:\n",
    "        optimizer.fit(X, y)\n",
    "    d=pd.DataFrame(optimizer.cv_results_)\n",
    "    best_score = optimizer.best_score_\n",
    "    best_score_std = d.iloc[optimizer.best_index_].std_test_score\n",
    "    best_params = optimizer.best_params_\n",
    "    print(best_params)\n",
    "    print((title + \" took %.2f seconds,  candidates checked: %d, best CV score: %.3f \"\n",
    "           +u\"\\u00B1\"+\" %.3f\") % (time.time() - start, \n",
    "                                  len(optimizer.cv_results_['params']),\n",
    "                                  best_score,\n",
    "                                  best_score_std))    \n",
    "    print('Best parameters:')\n",
    "    print(best_params)\n",
    "    print()\n",
    "    return best_params"
   ]
  },
  {
   "cell_type": "code",
   "execution_count": 10,
   "metadata": {
    "execution": {
     "iopub.execute_input": "2020-12-08T18:38:14.445724Z",
     "iopub.status.busy": "2020-12-08T18:38:14.444901Z",
     "iopub.status.idle": "2020-12-08T18:38:14.456478Z",
     "shell.execute_reply": "2020-12-08T18:38:14.456952Z"
    },
    "papermill": {
     "duration": 0.037603,
     "end_time": "2020-12-08T18:38:14.457065",
     "exception": false,
     "start_time": "2020-12-08T18:38:14.419462",
     "status": "completed"
    },
    "tags": []
   },
   "outputs": [
    {
     "data": {
      "text/plain": [
       "0    308315\n",
       "3     60803\n",
       "2     60404\n",
       "1     59355\n",
       "Name: age_group, dtype: int64"
      ]
     },
     "execution_count": 10,
     "metadata": {},
     "output_type": "execute_result"
    }
   ],
   "source": [
    "train['age_group'].value_counts()"
   ]
  },
  {
   "cell_type": "code",
   "execution_count": 11,
   "metadata": {
    "execution": {
     "iopub.execute_input": "2020-12-08T18:38:14.517597Z",
     "iopub.status.busy": "2020-12-08T18:38:14.516639Z",
     "iopub.status.idle": "2020-12-08T18:38:14.531753Z",
     "shell.execute_reply": "2020-12-08T18:38:14.530888Z"
    },
    "papermill": {
     "duration": 0.052978,
     "end_time": "2020-12-08T18:38:14.531892",
     "exception": false,
     "start_time": "2020-12-08T18:38:14.478914",
     "status": "completed"
    },
    "tags": []
   },
   "outputs": [],
   "source": [
    "f1 = make_scorer(f1_score, average='weighted', greater_is_better=True)\n",
    "# Defining your search space\n",
    "search_spaces = {'iterations': Integer(10, 1000),\n",
    "                 'depth': Integer(1, 8),\n",
    "                 'learning_rate': Real(0.01, 1.0, 'log-uniform'),\n",
    "                 'random_strength': Real(1e-9, 10, 'log-uniform'),\n",
    "                 'bagging_temperature': Real(0.0, 1.0),\n",
    "                 'border_count': Integer(1, 255),\n",
    "                 'l2_leaf_reg': Integer(2, 30)}"
   ]
  },
  {
   "cell_type": "code",
   "execution_count": 12,
   "metadata": {
    "execution": {
     "iopub.execute_input": "2020-12-08T18:38:14.609005Z",
     "iopub.status.busy": "2020-12-08T18:38:14.608027Z",
     "iopub.status.idle": "2020-12-08T18:38:14.631676Z",
     "shell.execute_reply": "2020-12-08T18:38:14.631181Z"
    },
    "papermill": {
     "duration": 0.063026,
     "end_time": "2020-12-08T18:38:14.631777",
     "exception": false,
     "start_time": "2020-12-08T18:38:14.568751",
     "status": "completed"
    },
    "tags": []
   },
   "outputs": [
    {
     "data": {
      "text/plain": [
       "0    1.585641\n",
       "3    8.040343\n",
       "2    8.093454\n",
       "1    8.236492\n",
       "Name: age_group, dtype: float64"
      ]
     },
     "execution_count": 12,
     "metadata": {},
     "output_type": "execute_result"
    }
   ],
   "source": [
    "1/train['age_group'].value_counts(normalize=True)"
   ]
  },
  {
   "cell_type": "code",
   "execution_count": 13,
   "metadata": {
    "execution": {
     "iopub.execute_input": "2020-12-08T18:38:14.704172Z",
     "iopub.status.busy": "2020-12-08T18:38:14.703267Z",
     "iopub.status.idle": "2020-12-08T18:38:14.846821Z",
     "shell.execute_reply": "2020-12-08T18:38:14.847810Z"
    },
    "papermill": {
     "duration": 0.185569,
     "end_time": "2020-12-08T18:38:14.847967",
     "exception": false,
     "start_time": "2020-12-08T18:38:14.662398",
     "status": "completed"
    },
    "tags": []
   },
   "outputs": [],
   "source": [
    "from catboost import CatBoostClassifier\n",
    "clf = CatBoostClassifier(task_type='GPU',       \n",
    "                         od_type = 'Iter',\n",
    "                         verbose= False,\n",
    "                         classes_count = 4,\n",
    "                         class_weights = [1.58, 8.05, 8.09, 8.23],\n",
    "                        )"
   ]
  },
  {
   "cell_type": "markdown",
   "metadata": {
    "papermill": {
     "duration": 0.046149,
     "end_time": "2020-12-08T18:38:14.929326",
     "exception": false,
     "start_time": "2020-12-08T18:38:14.883177",
     "status": "completed"
    },
    "tags": []
   },
   "source": [
    "Catboost documentation\n",
    "\n",
    "https://catboost.ai/docs/concepts/python-reference_parameters-list.html"
   ]
  },
  {
   "cell_type": "code",
   "execution_count": 14,
   "metadata": {
    "execution": {
     "iopub.execute_input": "2020-12-08T18:38:15.020488Z",
     "iopub.status.busy": "2020-12-08T18:38:15.019563Z",
     "iopub.status.idle": "2020-12-08T18:38:15.023302Z",
     "shell.execute_reply": "2020-12-08T18:38:15.023970Z"
    },
    "papermill": {
     "duration": 0.047434,
     "end_time": "2020-12-08T18:38:15.024165",
     "exception": false,
     "start_time": "2020-12-08T18:38:14.976731",
     "status": "completed"
    },
    "tags": []
   },
   "outputs": [],
   "source": [
    "# Setting up BayesSearchCV\n",
    "opt = BayesSearchCV(clf,\n",
    "                    search_spaces,\n",
    "                    scoring=f1,\n",
    "                    cv=skf,\n",
    "                    n_iter=100,\n",
    "                    n_jobs=1,  # use just 1 job with CatBoost in order to avoid segmentation fault\n",
    "                    return_train_score=False,\n",
    "                    refit=True,\n",
    "                    optimizer_kwargs={'base_estimator': 'GP'},\n",
    "                    random_state=42)"
   ]
  },
  {
   "cell_type": "code",
   "execution_count": 15,
   "metadata": {
    "execution": {
     "iopub.execute_input": "2020-12-08T18:38:15.098079Z",
     "iopub.status.busy": "2020-12-08T18:38:15.097152Z",
     "iopub.status.idle": "2020-12-08T18:38:15.099649Z",
     "shell.execute_reply": "2020-12-08T18:38:15.098891Z"
    },
    "papermill": {
     "duration": 0.042188,
     "end_time": "2020-12-08T18:38:15.099791",
     "exception": false,
     "start_time": "2020-12-08T18:38:15.057603",
     "status": "completed"
    },
    "tags": []
   },
   "outputs": [],
   "source": [
    "#best_params = report_perf(opt, train[feature_cols], train[target_cols],'CatBoost', \n",
    "#                           callbacks=[VerboseCallback(100),DeadlineStopper(60*10)])"
   ]
  },
  {
   "cell_type": "code",
   "execution_count": 16,
   "metadata": {
    "execution": {
     "iopub.execute_input": "2020-12-08T18:38:15.177722Z",
     "iopub.status.busy": "2020-12-08T18:38:15.176635Z",
     "iopub.status.idle": "2020-12-08T18:38:15.179414Z",
     "shell.execute_reply": "2020-12-08T18:38:15.178609Z"
    },
    "papermill": {
     "duration": 0.044936,
     "end_time": "2020-12-08T18:38:15.179571",
     "exception": false,
     "start_time": "2020-12-08T18:38:15.134635",
     "status": "completed"
    },
    "tags": []
   },
   "outputs": [],
   "source": [
    "best_params = {'bagging_temperature': 0.6170793585023163,\n",
    "              'border_count':198,\n",
    "              'depth':4,\n",
    "              'iterations':876,\n",
    "              'l2_leaf_reg':19,\n",
    "              'learning_rate':0.15461088645165447,\n",
    "              'random_strength':0.0030745042451505583}"
   ]
  },
  {
   "cell_type": "code",
   "execution_count": 17,
   "metadata": {
    "execution": {
     "iopub.execute_input": "2020-12-08T18:38:15.260249Z",
     "iopub.status.busy": "2020-12-08T18:38:15.259333Z",
     "iopub.status.idle": "2020-12-08T18:38:15.273495Z",
     "shell.execute_reply": "2020-12-08T18:38:15.274502Z"
    },
    "papermill": {
     "duration": 0.060731,
     "end_time": "2020-12-08T18:38:15.274649",
     "exception": false,
     "start_time": "2020-12-08T18:38:15.213918",
     "status": "completed"
    },
    "tags": []
   },
   "outputs": [],
   "source": [
    "import catboost\n",
    "\n",
    "class TripleCat():\n",
    "    def __init__(self):\n",
    "        self.mod1 = catboost.CatBoostClassifier(**best_params,\n",
    "                                            task_type='GPU', \n",
    "                                            classes_count = 4,\n",
    "                                             class_weights = [1.58, 8.05, 8.09, 8.23],\n",
    "                                            verbose=0,)\n",
    "        self.mod2 = catboost.CatBoostClassifier(**best_params,\n",
    "                                            task_type='GPU', \n",
    "                                            classes_count = 4,\n",
    "                                             class_weights = [1.58, 8.05, 8.09, 8.23],\n",
    "                                            verbose=0,)\n",
    "        self.mod3 = catboost.CatBoostClassifier(**best_params,\n",
    "                                            task_type='GPU', \n",
    "                                            classes_count = 4,\n",
    "                                             class_weights = [1.58, 8.05, 8.09, 8.23],\n",
    "                                            verbose=0,)\n",
    "        \n",
    "    def fit(self, x, y):\n",
    "        self.mod1.fit(x, y)\n",
    "        self.mod2.fit(x, y)\n",
    "        self.mod3.fit(x, y)\n",
    "        \n",
    "    def predict_proba(self, x):\n",
    "        pred1 = self.mod1.predict_proba(x)\n",
    "        pred2 = self.mod2.predict_proba(x)\n",
    "        pred3 = self.mod3.predict_proba(x)\n",
    "        \n",
    "        return (pred1+pred2+pred3)/3\n",
    "    \n",
    "    def predict(self, x):\n",
    "        pred1 = self.mod1.predict_proba(x)\n",
    "        pred2 = self.mod2.predict_proba(x)\n",
    "        pred3 = self.mod3.predict_proba(x)\n",
    "        \n",
    "        pred = (pred1+pred2+pred3)/3\n",
    "        \n",
    "        pred_classes = np.argmax(pred, axis=1)\n",
    "        return pred_classes"
   ]
  },
  {
   "cell_type": "code",
   "execution_count": 18,
   "metadata": {
    "execution": {
     "iopub.execute_input": "2020-12-08T18:38:15.352799Z",
     "iopub.status.busy": "2020-12-08T18:38:15.351707Z",
     "iopub.status.idle": "2020-12-08T18:38:15.365170Z",
     "shell.execute_reply": "2020-12-08T18:38:15.366279Z"
    },
    "papermill": {
     "duration": 0.058698,
     "end_time": "2020-12-08T18:38:15.366484",
     "exception": false,
     "start_time": "2020-12-08T18:38:15.307786",
     "status": "completed"
    },
    "tags": []
   },
   "outputs": [],
   "source": [
    "import catboost\n",
    "\n",
    "def run_training():\n",
    "    oof = np.zeros((train.shape[0], 4))\n",
    "    pred = np.zeros((test.shape[0], 4))\n",
    "    \n",
    "    for fold in range(5):\n",
    "        print(f\"\\nStarting FOLD: {fold}\")\n",
    "        start = time.time()\n",
    "        \n",
    "\n",
    "        trn_idx = train['kfold'] != fold\n",
    "        val_idx = train['kfold'] == fold\n",
    "        trn = train.loc[trn_idx, :]\n",
    "        val = train.loc[val_idx, :]\n",
    "\n",
    "        xtr, ytr = trn[feature_cols].values, trn[target_cols].values\n",
    "        xval, yval = val[feature_cols].values, val[target_cols].values\n",
    "        xtest = test[feature_cols].values\n",
    "\n",
    "        #model = xgb.XGBClassifier(random_state=42, tree_method='gpu_hist')\n",
    "        #model = catboost.CatBoostClassifier(**best_params,\n",
    "        #                                    task_type='GPU', \n",
    "        #                                    classes_count = 4,\n",
    "        #                                     class_weights = [1.58, 8.05, 8.09, 8.23],\n",
    "        #                                    verbose=0,)\n",
    "        model = catboost.CatBoostClassifier(task_type='GPU',\n",
    "                                           verbose=0)\n",
    "                                            \n",
    "                                          \n",
    "        print(\"Fittting model ...\")\n",
    "        model.fit(xtr, ytr.reshape(-1,))\n",
    "        \n",
    "        print(\"Calculating training preds ...\")\n",
    "        train_preds = model.predict(xtr)\n",
    "        print(\"Calculating validation preds ...\")\n",
    "        val_preds = model.predict(xval)\n",
    "        print(\"Training Accuracy Score - \", accuracy_score(ytr, train_preds ))\n",
    "        print(\"Training F1 Score - \", f1_score(ytr, train_preds, average='weighted'))\n",
    "        \n",
    "        print(\"Validation Accuracy Score - \", accuracy_score(yval, val_preds))\n",
    "        print(\"Validation F1 Score - \", f1_score(yval, val_preds, average='weighted'))\n",
    "        \n",
    "        oof[val_idx, :] += model.predict_proba(xval)\n",
    "        \n",
    "        # Test preds\n",
    "        pred += model.predict_proba(xtest)/5\n",
    "        \n",
    "        print(f\"FOLD {fold} completed in {time.time()-start} seconds\")\n",
    "        \n",
    "    return oof, pred"
   ]
  },
  {
   "cell_type": "code",
   "execution_count": 19,
   "metadata": {
    "execution": {
     "iopub.execute_input": "2020-12-08T18:38:15.447997Z",
     "iopub.status.busy": "2020-12-08T18:38:15.447151Z",
     "iopub.status.idle": "2020-12-08T18:40:51.092600Z",
     "shell.execute_reply": "2020-12-08T18:40:51.093407Z"
    },
    "papermill": {
     "duration": 155.692661,
     "end_time": "2020-12-08T18:40:51.093607",
     "exception": false,
     "start_time": "2020-12-08T18:38:15.400946",
     "status": "completed"
    },
    "tags": []
   },
   "outputs": [
    {
     "name": "stdout",
     "output_type": "stream",
     "text": [
      "\n",
      "Starting FOLD: 0\n",
      "Fittting model ...\n",
      "Calculating training preds ...\n",
      "Calculating validation preds ...\n",
      "Training Accuracy Score -  0.8139764408682156\n",
      "Training F1 Score -  0.810414440679575\n",
      "Validation Accuracy Score -  0.7670389461626576\n",
      "Validation F1 Score -  0.7630985265998327\n",
      "FOLD 0 completed in 91.6703462600708 seconds\n",
      "\n",
      "Starting FOLD: 1\n",
      "Fittting model ...\n",
      "Calculating training preds ...\n",
      "Calculating validation preds ...\n",
      "Training Accuracy Score -  0.8140863868923884\n",
      "Training F1 Score -  0.8104336636617402\n",
      "Validation Accuracy Score -  0.7693912616593029\n",
      "Validation F1 Score -  0.7657078579538484\n",
      "FOLD 1 completed in 16.454365730285645 seconds\n",
      "\n",
      "Starting FOLD: 2\n",
      "Fittting model ...\n",
      "Calculating training preds ...\n",
      "Calculating validation preds ...\n",
      "Training Accuracy Score -  0.8130999074410256\n",
      "Training F1 Score -  0.8095352274467191\n",
      "Validation Accuracy Score -  0.7703809767322936\n",
      "Validation F1 Score -  0.7663957314621849\n",
      "FOLD 2 completed in 16.332026481628418 seconds\n",
      "\n",
      "Starting FOLD: 3\n",
      "Fittting model ...\n",
      "Calculating training preds ...\n",
      "Calculating validation preds ...\n",
      "Training Accuracy Score -  0.8133811639930248\n",
      "Training F1 Score -  0.8099144831105616\n",
      "Validation Accuracy Score -  0.7697366402454615\n",
      "Validation F1 Score -  0.7662971261756165\n",
      "FOLD 3 completed in 16.310219287872314 seconds\n",
      "\n",
      "Starting FOLD: 4\n",
      "Fittting model ...\n",
      "Calculating training preds ...\n",
      "Calculating validation preds ...\n",
      "Training Accuracy Score -  0.8133044576606614\n",
      "Training F1 Score -  0.8095402769371769\n",
      "Validation Accuracy Score -  0.7677729480951163\n",
      "Validation F1 Score -  0.7641482080646923\n",
      "FOLD 4 completed in 14.877030372619629 seconds\n"
     ]
    }
   ],
   "source": [
    "oof, pred = run_training()"
   ]
  },
  {
   "cell_type": "code",
   "execution_count": 20,
   "metadata": {
    "execution": {
     "iopub.execute_input": "2020-12-08T18:40:51.163169Z",
     "iopub.status.busy": "2020-12-08T18:40:51.162497Z",
     "iopub.status.idle": "2020-12-08T18:40:51.166717Z",
     "shell.execute_reply": "2020-12-08T18:40:51.166046Z"
    },
    "papermill": {
     "duration": 0.041605,
     "end_time": "2020-12-08T18:40:51.166837",
     "exception": false,
     "start_time": "2020-12-08T18:40:51.125232",
     "status": "completed"
    },
    "tags": []
   },
   "outputs": [],
   "source": [
    "def find_oof_score(oof):\n",
    "    predictions = oof.argmax(axis=1)\n",
    "    print(\"OOF Accuracy Score - \", accuracy_score(train[target_cols], predictions))\n",
    "    print(\"OOF F1 Score - \", f1_score(train[target_cols], predictions, average='weighted'))"
   ]
  },
  {
   "cell_type": "code",
   "execution_count": 21,
   "metadata": {
    "execution": {
     "iopub.execute_input": "2020-12-08T18:40:51.238760Z",
     "iopub.status.busy": "2020-12-08T18:40:51.237811Z",
     "iopub.status.idle": "2020-12-08T18:40:51.454537Z",
     "shell.execute_reply": "2020-12-08T18:40:51.455163Z"
    },
    "papermill": {
     "duration": 0.255737,
     "end_time": "2020-12-08T18:40:51.455335",
     "exception": false,
     "start_time": "2020-12-08T18:40:51.199598",
     "status": "completed"
    },
    "tags": []
   },
   "outputs": [
    {
     "name": "stdout",
     "output_type": "stream",
     "text": [
      "OOF Accuracy Score -  0.7688641519236945\n",
      "OOF F1 Score -  0.7651350154826301\n"
     ]
    }
   ],
   "source": [
    "find_oof_score(oof)\n",
    "\n",
    "# xgboost without onehot - 0.7432\n",
    "# xgboost with tier and gender ohencoded - 0.7434\n",
    "\n",
    "# catboost - 0.7458 (with class weights)\n",
    "# 0.7459"
   ]
  },
  {
   "cell_type": "code",
   "execution_count": 22,
   "metadata": {
    "execution": {
     "iopub.execute_input": "2020-12-08T18:40:51.523869Z",
     "iopub.status.busy": "2020-12-08T18:40:51.522940Z",
     "iopub.status.idle": "2020-12-08T18:40:51.540426Z",
     "shell.execute_reply": "2020-12-08T18:40:51.539723Z"
    },
    "papermill": {
     "duration": 0.053149,
     "end_time": "2020-12-08T18:40:51.540539",
     "exception": false,
     "start_time": "2020-12-08T18:40:51.487390",
     "status": "completed"
    },
    "tags": []
   },
   "outputs": [],
   "source": [
    "np.save('oof_cat.npy', oof)\n",
    "np.save('pred_cat.npy', pred)"
   ]
  },
  {
   "cell_type": "code",
   "execution_count": 23,
   "metadata": {
    "execution": {
     "iopub.execute_input": "2020-12-08T18:40:51.610514Z",
     "iopub.status.busy": "2020-12-08T18:40:51.608973Z",
     "iopub.status.idle": "2020-12-08T18:40:51.613539Z",
     "shell.execute_reply": "2020-12-08T18:40:51.612992Z"
    },
    "papermill": {
     "duration": 0.040736,
     "end_time": "2020-12-08T18:40:51.613639",
     "exception": false,
     "start_time": "2020-12-08T18:40:51.572903",
     "status": "completed"
    },
    "tags": []
   },
   "outputs": [],
   "source": [
    "final_preds = pred.argmax(axis=1)+1"
   ]
  },
  {
   "cell_type": "code",
   "execution_count": 24,
   "metadata": {
    "execution": {
     "iopub.execute_input": "2020-12-08T18:40:51.689320Z",
     "iopub.status.busy": "2020-12-08T18:40:51.688373Z",
     "iopub.status.idle": "2020-12-08T18:40:51.692839Z",
     "shell.execute_reply": "2020-12-08T18:40:51.693365Z"
    },
    "papermill": {
     "duration": 0.046718,
     "end_time": "2020-12-08T18:40:51.693512",
     "exception": false,
     "start_time": "2020-12-08T18:40:51.646794",
     "status": "completed"
    },
    "tags": []
   },
   "outputs": [
    {
     "data": {
      "text/html": [
       "<div>\n",
       "<style scoped>\n",
       "    .dataframe tbody tr th:only-of-type {\n",
       "        vertical-align: middle;\n",
       "    }\n",
       "\n",
       "    .dataframe tbody tr th {\n",
       "        vertical-align: top;\n",
       "    }\n",
       "\n",
       "    .dataframe thead th {\n",
       "        text-align: right;\n",
       "    }\n",
       "</style>\n",
       "<table border=\"1\" class=\"dataframe\">\n",
       "  <thead>\n",
       "    <tr style=\"text-align: right;\">\n",
       "      <th></th>\n",
       "      <th>prediction</th>\n",
       "    </tr>\n",
       "  </thead>\n",
       "  <tbody>\n",
       "    <tr>\n",
       "      <th>0</th>\n",
       "      <td>1</td>\n",
       "    </tr>\n",
       "    <tr>\n",
       "      <th>1</th>\n",
       "      <td>1</td>\n",
       "    </tr>\n",
       "    <tr>\n",
       "      <th>2</th>\n",
       "      <td>1</td>\n",
       "    </tr>\n",
       "    <tr>\n",
       "      <th>3</th>\n",
       "      <td>2</td>\n",
       "    </tr>\n",
       "    <tr>\n",
       "      <th>4</th>\n",
       "      <td>1</td>\n",
       "    </tr>\n",
       "    <tr>\n",
       "      <th>...</th>\n",
       "      <td>...</td>\n",
       "    </tr>\n",
       "    <tr>\n",
       "      <th>54315</th>\n",
       "      <td>1</td>\n",
       "    </tr>\n",
       "    <tr>\n",
       "      <th>54316</th>\n",
       "      <td>1</td>\n",
       "    </tr>\n",
       "    <tr>\n",
       "      <th>54317</th>\n",
       "      <td>4</td>\n",
       "    </tr>\n",
       "    <tr>\n",
       "      <th>54318</th>\n",
       "      <td>1</td>\n",
       "    </tr>\n",
       "    <tr>\n",
       "      <th>54319</th>\n",
       "      <td>1</td>\n",
       "    </tr>\n",
       "  </tbody>\n",
       "</table>\n",
       "<p>54320 rows × 1 columns</p>\n",
       "</div>"
      ],
      "text/plain": [
       "       prediction\n",
       "0               1\n",
       "1               1\n",
       "2               1\n",
       "3               2\n",
       "4               1\n",
       "...           ...\n",
       "54315           1\n",
       "54316           1\n",
       "54317           4\n",
       "54318           1\n",
       "54319           1\n",
       "\n",
       "[54320 rows x 1 columns]"
      ]
     },
     "execution_count": 24,
     "metadata": {},
     "output_type": "execute_result"
    }
   ],
   "source": [
    "pred_csv = pd.DataFrame(final_preds.reshape(-1), columns=['prediction'] )\n",
    "pred_csv"
   ]
  },
  {
   "cell_type": "code",
   "execution_count": 25,
   "metadata": {
    "execution": {
     "iopub.execute_input": "2020-12-08T18:40:51.764184Z",
     "iopub.status.busy": "2020-12-08T18:40:51.763317Z",
     "iopub.status.idle": "2020-12-08T18:40:51.770887Z",
     "shell.execute_reply": "2020-12-08T18:40:51.771403Z"
    },
    "papermill": {
     "duration": 0.045475,
     "end_time": "2020-12-08T18:40:51.771520",
     "exception": false,
     "start_time": "2020-12-08T18:40:51.726045",
     "status": "completed"
    },
    "tags": []
   },
   "outputs": [
    {
     "data": {
      "text/plain": [
       "prediction\n",
       "1             34461\n",
       "2              8301\n",
       "3              7985\n",
       "4              3573\n",
       "dtype: int64"
      ]
     },
     "execution_count": 25,
     "metadata": {},
     "output_type": "execute_result"
    }
   ],
   "source": [
    "pred_csv.value_counts()"
   ]
  },
  {
   "cell_type": "code",
   "execution_count": 26,
   "metadata": {
    "execution": {
     "iopub.execute_input": "2020-12-08T18:40:51.843661Z",
     "iopub.status.busy": "2020-12-08T18:40:51.842884Z",
     "iopub.status.idle": "2020-12-08T18:40:52.242137Z",
     "shell.execute_reply": "2020-12-08T18:40:52.241456Z"
    },
    "papermill": {
     "duration": 0.436852,
     "end_time": "2020-12-08T18:40:52.242303",
     "exception": false,
     "start_time": "2020-12-08T18:40:51.805451",
     "status": "completed"
    },
    "tags": []
   },
   "outputs": [],
   "source": [
    "pred_csv.to_csv('Submission.csv', index=False)"
   ]
  }
 ],
 "metadata": {
  "kernelspec": {
   "display_name": "Python 3",
   "language": "python",
   "name": "python3"
  },
  "language_info": {
   "codemirror_mode": {
    "name": "ipython",
    "version": 3
   },
   "file_extension": ".py",
   "mimetype": "text/x-python",
   "name": "python",
   "nbconvert_exporter": "python",
   "pygments_lexer": "ipython3",
   "version": "3.7.3"
  },
  "papermill": {
   "duration": 172.942709,
   "end_time": "2020-12-08T18:40:53.641082",
   "environment_variables": {},
   "exception": null,
   "input_path": "__notebook__.ipynb",
   "output_path": "__notebook__.ipynb",
   "parameters": {},
   "start_time": "2020-12-08T18:38:00.698373",
   "version": "2.1.0"
  }
 },
 "nbformat": 4,
 "nbformat_minor": 4
}
